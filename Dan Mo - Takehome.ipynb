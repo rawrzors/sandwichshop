{
 "cells": [
  {
   "cell_type": "code",
   "execution_count": 66,
   "metadata": {
    "collapsed": true
   },
   "outputs": [],
   "source": [
    "import pandas as pd\n",
    "import seaborn as sns\n",
    "import matplotlib.pyplot as plt\n",
    "%matplotlib inline\n",
    "pd.set_option('display.float_format', lambda x: '%.3f' % x)"
   ]
  },
  {
   "cell_type": "code",
   "execution_count": 128,
   "metadata": {
    "scrolled": false
   },
   "outputs": [
    {
     "data": {
      "text/html": [
       "<div>\n",
       "<style>\n",
       "    .dataframe thead tr:only-child th {\n",
       "        text-align: right;\n",
       "    }\n",
       "\n",
       "    .dataframe thead th {\n",
       "        text-align: left;\n",
       "    }\n",
       "\n",
       "    .dataframe tbody tr th {\n",
       "        vertical-align: top;\n",
       "    }\n",
       "</style>\n",
       "<table border=\"1\" class=\"dataframe\">\n",
       "  <thead>\n",
       "    <tr style=\"text-align: right;\">\n",
       "      <th></th>\n",
       "      <th>Customer_ID</th>\n",
       "      <th>Called_within_1_day</th>\n",
       "      <th>Age</th>\n",
       "      <th>Bill_amount</th>\n",
       "      <th>used_app_before</th>\n",
       "      <th>used_website_before</th>\n",
       "      <th>Income</th>\n",
       "      <th>#_of_calls_in_the_past</th>\n",
       "      <th>Avg_Sentiment_past_Calls</th>\n",
       "    </tr>\n",
       "  </thead>\n",
       "  <tbody>\n",
       "    <tr>\n",
       "      <th>0</th>\n",
       "      <td>0.999</td>\n",
       "      <td>1</td>\n",
       "      <td>53.000</td>\n",
       "      <td>15</td>\n",
       "      <td>0</td>\n",
       "      <td>0</td>\n",
       "      <td>$433,342</td>\n",
       "      <td>8</td>\n",
       "      <td>-20.000</td>\n",
       "    </tr>\n",
       "    <tr>\n",
       "      <th>1</th>\n",
       "      <td>0.304</td>\n",
       "      <td>1</td>\n",
       "      <td>77.000</td>\n",
       "      <td>13</td>\n",
       "      <td>0</td>\n",
       "      <td>0</td>\n",
       "      <td>$115,520</td>\n",
       "      <td>9</td>\n",
       "      <td>-10.000</td>\n",
       "    </tr>\n",
       "    <tr>\n",
       "      <th>2</th>\n",
       "      <td>0.289</td>\n",
       "      <td>1</td>\n",
       "      <td>79.000</td>\n",
       "      <td>8</td>\n",
       "      <td>0</td>\n",
       "      <td>0</td>\n",
       "      <td>$191,138</td>\n",
       "      <td>9</td>\n",
       "      <td>-16.000</td>\n",
       "    </tr>\n",
       "  </tbody>\n",
       "</table>\n",
       "</div>"
      ],
      "text/plain": [
       "   Customer_ID  Called_within_1_day    Age  Bill_amount  used_app_before  \\\n",
       "0        0.999                    1 53.000           15                0   \n",
       "1        0.304                    1 77.000           13                0   \n",
       "2        0.289                    1 79.000            8                0   \n",
       "\n",
       "   used_website_before     Income  #_of_calls_in_the_past  \\\n",
       "0                    0  $433,342                        8   \n",
       "1                    0  $115,520                        9   \n",
       "2                    0  $191,138                        9   \n",
       "\n",
       "   Avg_Sentiment_past_Calls  \n",
       "0                   -20.000  \n",
       "1                   -10.000  \n",
       "2                   -16.000  "
      ]
     },
     "execution_count": 128,
     "metadata": {},
     "output_type": "execute_result"
    }
   ],
   "source": [
    "store_orders = pd.read_csv(\"verizon_takehome.csv\")\n",
    "store_orders.head(3)"
   ]
  },
  {
   "cell_type": "code",
   "execution_count": 118,
   "metadata": {},
   "outputs": [
    {
     "data": {
      "text/plain": [
       "Customer_ID                   0\n",
       "Called_within_1_day           0\n",
       "Age                          22\n",
       "Bill_amount                   0\n",
       "used_app_before               0\n",
       "used_website_before           0\n",
       "Income                        0\n",
       "#_of_calls_in_the_past        0\n",
       "Avg_Sentiment_past_Calls    494\n",
       "dtype: int64"
      ]
     },
     "execution_count": 118,
     "metadata": {},
     "output_type": "execute_result"
    }
   ],
   "source": [
    "store_orders.isnull().sum()"
   ]
  },
  {
   "cell_type": "markdown",
   "metadata": {},
   "source": [
    "## Clean Data"
   ]
  },
  {
   "cell_type": "code",
   "execution_count": 129,
   "metadata": {},
   "outputs": [],
   "source": [
    "# Outlier in Bill_amount of 10,0000,0000 - remove it\n",
    "store_orders = store_orders[store_orders['Bill_amount'] < 1000000.000] \n",
    "\n",
    "# remove dollar sign from Income column\n",
    "store_orders['Income'] = store_orders['Income'].astype('str').replace({'\\$':'', ',': ''}, regex = True).astype('int64')"
   ]
  },
  {
   "cell_type": "code",
   "execution_count": 130,
   "metadata": {},
   "outputs": [
    {
     "data": {
      "text/html": [
       "<div>\n",
       "<style>\n",
       "    .dataframe thead tr:only-child th {\n",
       "        text-align: right;\n",
       "    }\n",
       "\n",
       "    .dataframe thead th {\n",
       "        text-align: left;\n",
       "    }\n",
       "\n",
       "    .dataframe tbody tr th {\n",
       "        vertical-align: top;\n",
       "    }\n",
       "</style>\n",
       "<table border=\"1\" class=\"dataframe\">\n",
       "  <thead>\n",
       "    <tr style=\"text-align: right;\">\n",
       "      <th></th>\n",
       "      <th>Customer_ID</th>\n",
       "      <th>Age</th>\n",
       "      <th>Bill_amount</th>\n",
       "      <th>used_app_before</th>\n",
       "      <th>used_website_before</th>\n",
       "      <th>Income</th>\n",
       "      <th>#_of_calls_in_the_past</th>\n",
       "      <th>Avg_Sentiment_past_Calls</th>\n",
       "    </tr>\n",
       "    <tr>\n",
       "      <th>Called_within_1_day</th>\n",
       "      <th></th>\n",
       "      <th></th>\n",
       "      <th></th>\n",
       "      <th></th>\n",
       "      <th></th>\n",
       "      <th></th>\n",
       "      <th></th>\n",
       "      <th></th>\n",
       "    </tr>\n",
       "  </thead>\n",
       "  <tbody>\n",
       "    <tr>\n",
       "      <th>0</th>\n",
       "      <td>0.485</td>\n",
       "      <td>23.000</td>\n",
       "      <td>11</td>\n",
       "      <td>1</td>\n",
       "      <td>1</td>\n",
       "      <td>306597</td>\n",
       "      <td>0</td>\n",
       "      <td>3.000</td>\n",
       "    </tr>\n",
       "    <tr>\n",
       "      <th>1</th>\n",
       "      <td>0.474</td>\n",
       "      <td>66.000</td>\n",
       "      <td>11</td>\n",
       "      <td>0</td>\n",
       "      <td>1</td>\n",
       "      <td>275404</td>\n",
       "      <td>11</td>\n",
       "      <td>-9.000</td>\n",
       "    </tr>\n",
       "  </tbody>\n",
       "</table>\n",
       "</div>"
      ],
      "text/plain": [
       "                     Customer_ID    Age  Bill_amount  used_app_before  \\\n",
       "Called_within_1_day                                                     \n",
       "0                          0.485 23.000           11                1   \n",
       "1                          0.474 66.000           11                0   \n",
       "\n",
       "                     used_website_before  Income  #_of_calls_in_the_past  \\\n",
       "Called_within_1_day                                                        \n",
       "0                                      1  306597                       0   \n",
       "1                                      1  275404                      11   \n",
       "\n",
       "                     Avg_Sentiment_past_Calls  \n",
       "Called_within_1_day                            \n",
       "0                                       3.000  \n",
       "1                                      -9.000  "
      ]
     },
     "execution_count": 130,
     "metadata": {},
     "output_type": "execute_result"
    }
   ],
   "source": [
    "median_ages = store_orders.groupby('Called_within_1_day').median()\n",
    "median_ages"
   ]
  },
  {
   "cell_type": "code",
   "execution_count": 131,
   "metadata": {
    "collapsed": true
   },
   "outputs": [],
   "source": [
    "# impute missing age values using the average for each called / not called\n",
    "def impute_age(order_row):\n",
    "    if pd.isnull(order_row['Age']):\n",
    "        if order_row['Called_within_1_day'] == 1:\n",
    "            return median_ages['Age'][1]\n",
    "        else:\n",
    "            return median_ages['Age'][0]\n",
    "    else:\n",
    "        return order_row['Age']\n",
    "        \n",
    "store_orders['Age'] = store_orders.apply(impute_age, axis=1)"
   ]
  },
  {
   "cell_type": "code",
   "execution_count": 114,
   "metadata": {
    "scrolled": false
   },
   "outputs": [
    {
     "data": {
      "text/plain": [
       "<matplotlib.axes._subplots.AxesSubplot at 0x1249f9240>"
      ]
     },
     "execution_count": 114,
     "metadata": {},
     "output_type": "execute_result"
    },
    {
     "data": {
      "image/png": "[encoded data removed]",
      "text/plain": [
       "<matplotlib.figure.Figure at 0x1249f7c50>"
      ]
     },
     "metadata": {},
     "output_type": "display_data"
    }
   ],
   "source": [
    "# null values\n",
    "sns.heatmap(store_orders.isnull(),cbar=False, cmap=\"plasma\")"
   ]
  },
  {
   "cell_type": "markdown",
   "metadata": {},
   "source": [
    "Drop sentiment column for initial model, then create separate model with it included"
   ]
  },
  {
   "cell_type": "markdown",
   "metadata": {},
   "source": [
    "## Exploratory analysis"
   ]
  },
  {
   "cell_type": "code",
   "execution_count": 126,
   "metadata": {
    "scrolled": false
   },
   "outputs": [
    {
     "data": {
      "text/html": [
       "<div>\n",
       "<style>\n",
       "    .dataframe thead tr:only-child th {\n",
       "        text-align: right;\n",
       "    }\n",
       "\n",
       "    .dataframe thead th {\n",
       "        text-align: left;\n",
       "    }\n",
       "\n",
       "    .dataframe tbody tr th {\n",
       "        vertical-align: top;\n",
       "    }\n",
       "</style>\n",
       "<table border=\"1\" class=\"dataframe\">\n",
       "  <thead>\n",
       "    <tr style=\"text-align: right;\">\n",
       "      <th></th>\n",
       "      <th>Called_within_1_day</th>\n",
       "      <th>Age</th>\n",
       "      <th>Bill_amount</th>\n",
       "      <th>used_app_before</th>\n",
       "      <th>used_website_before</th>\n",
       "      <th>#_of_calls_in_the_past</th>\n",
       "      <th>Avg_Sentiment_past_Calls</th>\n",
       "    </tr>\n",
       "  </thead>\n",
       "  <tbody>\n",
       "    <tr>\n",
       "      <th>count</th>\n",
       "      <td>1000.000</td>\n",
       "      <td>978.000</td>\n",
       "      <td>1000.000</td>\n",
       "      <td>1000.000</td>\n",
       "      <td>1000.000</td>\n",
       "      <td>1000.000</td>\n",
       "      <td>506.000</td>\n",
       "    </tr>\n",
       "    <tr>\n",
       "      <th>mean</th>\n",
       "      <td>0.250</td>\n",
       "      <td>33.567</td>\n",
       "      <td>10010.788</td>\n",
       "      <td>0.674</td>\n",
       "      <td>0.767</td>\n",
       "      <td>5.277</td>\n",
       "      <td>-2.229</td>\n",
       "    </tr>\n",
       "    <tr>\n",
       "      <th>std</th>\n",
       "      <td>0.433</td>\n",
       "      <td>19.577</td>\n",
       "      <td>316227.425</td>\n",
       "      <td>0.469</td>\n",
       "      <td>0.423</td>\n",
       "      <td>6.778</td>\n",
       "      <td>8.487</td>\n",
       "    </tr>\n",
       "    <tr>\n",
       "      <th>min</th>\n",
       "      <td>0.000</td>\n",
       "      <td>15.000</td>\n",
       "      <td>1.000</td>\n",
       "      <td>0.000</td>\n",
       "      <td>0.000</td>\n",
       "      <td>0.000</td>\n",
       "      <td>-20.000</td>\n",
       "    </tr>\n",
       "    <tr>\n",
       "      <th>25%</th>\n",
       "      <td>0.000</td>\n",
       "      <td>20.000</td>\n",
       "      <td>6.000</td>\n",
       "      <td>0.000</td>\n",
       "      <td>1.000</td>\n",
       "      <td>0.000</td>\n",
       "      <td>-9.000</td>\n",
       "    </tr>\n",
       "    <tr>\n",
       "      <th>50%</th>\n",
       "      <td>0.000</td>\n",
       "      <td>25.000</td>\n",
       "      <td>11.000</td>\n",
       "      <td>1.000</td>\n",
       "      <td>1.000</td>\n",
       "      <td>1.000</td>\n",
       "      <td>1.000</td>\n",
       "    </tr>\n",
       "    <tr>\n",
       "      <th>75%</th>\n",
       "      <td>0.250</td>\n",
       "      <td>50.750</td>\n",
       "      <td>16.000</td>\n",
       "      <td>1.000</td>\n",
       "      <td>1.000</td>\n",
       "      <td>11.000</td>\n",
       "      <td>5.000</td>\n",
       "    </tr>\n",
       "    <tr>\n",
       "      <th>max</th>\n",
       "      <td>1.000</td>\n",
       "      <td>80.000</td>\n",
       "      <td>10000000.000</td>\n",
       "      <td>1.000</td>\n",
       "      <td>1.000</td>\n",
       "      <td>20.000</td>\n",
       "      <td>10.000</td>\n",
       "    </tr>\n",
       "  </tbody>\n",
       "</table>\n",
       "</div>"
      ],
      "text/plain": [
       "       Called_within_1_day     Age  Bill_amount  used_app_before  \\\n",
       "count             1000.000 978.000     1000.000         1000.000   \n",
       "mean                 0.250  33.567    10010.788            0.674   \n",
       "std                  0.433  19.577   316227.425            0.469   \n",
       "min                  0.000  15.000        1.000            0.000   \n",
       "25%                  0.000  20.000        6.000            0.000   \n",
       "50%                  0.000  25.000       11.000            1.000   \n",
       "75%                  0.250  50.750       16.000            1.000   \n",
       "max                  1.000  80.000 10000000.000            1.000   \n",
       "\n",
       "       used_website_before  #_of_calls_in_the_past  Avg_Sentiment_past_Calls  \n",
       "count             1000.000                1000.000                   506.000  \n",
       "mean                 0.767                   5.277                    -2.229  \n",
       "std                  0.423                   6.778                     8.487  \n",
       "min                  0.000                   0.000                   -20.000  \n",
       "25%                  1.000                   0.000                    -9.000  \n",
       "50%                  1.000                   1.000                     1.000  \n",
       "75%                  1.000                  11.000                     5.000  \n",
       "max                  1.000                  20.000                    10.000  "
      ]
     },
     "execution_count": 126,
     "metadata": {},
     "output_type": "execute_result"
    }
   ],
   "source": [
    "store_orders.drop('Customer_ID', axis=1).describe()"
   ]
  },
  {
   "cell_type": "code",
   "execution_count": 73,
   "metadata": {
    "scrolled": false
   },
   "outputs": [
    {
     "data": {
      "text/plain": [
       "<matplotlib.axes._subplots.AxesSubplot at 0x1242fdac8>"
      ]
     },
     "execution_count": 73,
     "metadata": {},
     "output_type": "execute_result"
    },
    {
     "data": {
      "image/png": "[encoded data removed]",
      "text/plain": [
       "<matplotlib.figure.Figure at 0x1234967f0>"
      ]
     },
     "metadata": {},
     "output_type": "display_data"
    }
   ],
   "source": [
    "sns.set_style('whitegrid')\n",
    "sns.distplot(store_orders['Age'].dropna(), kde=False)"
   ]
  },
  {
   "cell_type": "code",
   "execution_count": 136,
   "metadata": {},
   "outputs": [
    {
     "data": {
      "text/plain": [
       "<matplotlib.axes._subplots.AxesSubplot at 0x12a5abc18>"
      ]
     },
     "execution_count": 136,
     "metadata": {},
     "output_type": "execute_result"
    },
    {
     "data": {
      "image/png": "[encoded data removed]",
      "text/plain": [
       "<matplotlib.figure.Figure at 0x12a56bb70>"
      ]
     },
     "metadata": {},
     "output_type": "display_data"
    }
   ],
   "source": [
    "sns.boxplot(x='Called_within_1_day',y='Age',data=store_orders,palette='winter')"
   ]
  },
  {
   "cell_type": "code",
   "execution_count": 135,
   "metadata": {
    "scrolled": false
   },
   "outputs": [
    {
     "data": {
      "text/plain": [
       "<matplotlib.axes._subplots.AxesSubplot at 0x12aa78a20>"
      ]
     },
     "execution_count": 135,
     "metadata": {},
     "output_type": "execute_result"
    },
    {
     "data": {
      "image/png": "[encoded data removed]",
      "text/plain": [
       "<matplotlib.figure.Figure at 0x12a855da0>"
      ]
     },
     "metadata": {},
     "output_type": "display_data"
    }
   ],
   "source": [
    "fig, ax = plt.subplots(2,3, figsize=(14,5))\n",
    "sns.boxplot(x='Called_within_1_day',y='Age',data=store_orders,palette='winter', ax=ax[0,0])\n",
    "sns.boxplot(x='Called_within_1_day',y='Bill_amount',data=store_orders,palette='winter', ax=ax[0,1])\n",
    "sns.boxplot(x='Called_within_1_day',y='Income',data=store_orders,palette='winter', ax=ax[0,2])\n",
    "sns.boxplot(x='Called_within_1_day',y='#_of_calls_in_the_past',data=store_orders,palette='winter', ax=ax[1,0])\n",
    "sns.boxplot(x='Called_within_1_day',y='Avg_Sentiment_past_Calls',data=store_orders,palette='winter', ax=ax[1,1])\n",
    "\n",
    "# Large difference in Age - likely good indicator of if they will call \n",
    "# Significant differnce in #_of_calls_in_the_past and Avg_Sentiment_past_Calls\n",
    "# Little difference in Bill_amount, Income - likely poor indicator of i they will call "
   ]
  },
  {
   "cell_type": "code",
   "execution_count": 75,
   "metadata": {
    "scrolled": true
   },
   "outputs": [
    {
     "data": {
      "text/html": [
       "<div>\n",
       "<style>\n",
       "    .dataframe thead tr:only-child th {\n",
       "        text-align: right;\n",
       "    }\n",
       "\n",
       "    .dataframe thead th {\n",
       "        text-align: left;\n",
       "    }\n",
       "\n",
       "    .dataframe tbody tr th {\n",
       "        vertical-align: top;\n",
       "    }\n",
       "</style>\n",
       "<table border=\"1\" class=\"dataframe\">\n",
       "  <thead>\n",
       "    <tr style=\"text-align: right;\">\n",
       "      <th></th>\n",
       "      <th>Called_within_1_day</th>\n",
       "      <th>Age</th>\n",
       "      <th>Bill_amount</th>\n",
       "      <th>Avg_Sentiment_past_Calls</th>\n",
       "      <th>#_of_calls_in_the_past</th>\n",
       "      <th>used_app_before</th>\n",
       "      <th>Income</th>\n",
       "      <th>used_website_before</th>\n",
       "    </tr>\n",
       "  </thead>\n",
       "  <tbody>\n",
       "    <tr>\n",
       "      <th>Called_within_1_day</th>\n",
       "      <td>1.000</td>\n",
       "      <td>0.953</td>\n",
       "      <td>0.018</td>\n",
       "      <td>-0.606</td>\n",
       "      <td>0.458</td>\n",
       "      <td>-0.731</td>\n",
       "      <td>-0.083</td>\n",
       "      <td>-0.224</td>\n",
       "    </tr>\n",
       "    <tr>\n",
       "      <th>Age</th>\n",
       "      <td>0.953</td>\n",
       "      <td>1.000</td>\n",
       "      <td>0.019</td>\n",
       "      <td>-0.573</td>\n",
       "      <td>0.437</td>\n",
       "      <td>-0.693</td>\n",
       "      <td>-0.093</td>\n",
       "      <td>-0.210</td>\n",
       "    </tr>\n",
       "    <tr>\n",
       "      <th>Bill_amount</th>\n",
       "      <td>0.018</td>\n",
       "      <td>0.019</td>\n",
       "      <td>1.000</td>\n",
       "      <td>-0.035</td>\n",
       "      <td>0.035</td>\n",
       "      <td>-0.020</td>\n",
       "      <td>-0.013</td>\n",
       "      <td>0.002</td>\n",
       "    </tr>\n",
       "    <tr>\n",
       "      <th>Avg_Sentiment_past_Calls</th>\n",
       "      <td>-0.606</td>\n",
       "      <td>-0.573</td>\n",
       "      <td>-0.035</td>\n",
       "      <td>1.000</td>\n",
       "      <td>0.035</td>\n",
       "      <td>0.531</td>\n",
       "      <td>0.066</td>\n",
       "      <td>0.569</td>\n",
       "    </tr>\n",
       "    <tr>\n",
       "      <th>#_of_calls_in_the_past</th>\n",
       "      <td>0.458</td>\n",
       "      <td>0.437</td>\n",
       "      <td>0.035</td>\n",
       "      <td>0.035</td>\n",
       "      <td>1.000</td>\n",
       "      <td>-0.233</td>\n",
       "      <td>-0.033</td>\n",
       "      <td>0.056</td>\n",
       "    </tr>\n",
       "    <tr>\n",
       "      <th>used_app_before</th>\n",
       "      <td>-0.731</td>\n",
       "      <td>-0.693</td>\n",
       "      <td>-0.020</td>\n",
       "      <td>0.531</td>\n",
       "      <td>-0.233</td>\n",
       "      <td>1.000</td>\n",
       "      <td>0.088</td>\n",
       "      <td>0.602</td>\n",
       "    </tr>\n",
       "    <tr>\n",
       "      <th>Income</th>\n",
       "      <td>-0.083</td>\n",
       "      <td>-0.093</td>\n",
       "      <td>-0.013</td>\n",
       "      <td>0.066</td>\n",
       "      <td>-0.033</td>\n",
       "      <td>0.088</td>\n",
       "      <td>1.000</td>\n",
       "      <td>0.032</td>\n",
       "    </tr>\n",
       "    <tr>\n",
       "      <th>used_website_before</th>\n",
       "      <td>-0.224</td>\n",
       "      <td>-0.210</td>\n",
       "      <td>0.002</td>\n",
       "      <td>0.569</td>\n",
       "      <td>0.056</td>\n",
       "      <td>0.602</td>\n",
       "      <td>0.032</td>\n",
       "      <td>1.000</td>\n",
       "    </tr>\n",
       "  </tbody>\n",
       "</table>\n",
       "</div>"
      ],
      "text/plain": [
       "                          Called_within_1_day    Age  Bill_amount  \\\n",
       "Called_within_1_day                     1.000  0.953        0.018   \n",
       "Age                                     0.953  1.000        0.019   \n",
       "Bill_amount                             0.018  0.019        1.000   \n",
       "Avg_Sentiment_past_Calls               -0.606 -0.573       -0.035   \n",
       "#_of_calls_in_the_past                  0.458  0.437        0.035   \n",
       "used_app_before                        -0.731 -0.693       -0.020   \n",
       "Income                                 -0.083 -0.093       -0.013   \n",
       "used_website_before                    -0.224 -0.210        0.002   \n",
       "\n",
       "                          Avg_Sentiment_past_Calls  #_of_calls_in_the_past  \\\n",
       "Called_within_1_day                         -0.606                   0.458   \n",
       "Age                                         -0.573                   0.437   \n",
       "Bill_amount                                 -0.035                   0.035   \n",
       "Avg_Sentiment_past_Calls                     1.000                   0.035   \n",
       "#_of_calls_in_the_past                       0.035                   1.000   \n",
       "used_app_before                              0.531                  -0.233   \n",
       "Income                                       0.066                  -0.033   \n",
       "used_website_before                          0.569                   0.056   \n",
       "\n",
       "                          used_app_before  Income  used_website_before  \n",
       "Called_within_1_day                -0.731  -0.083               -0.224  \n",
       "Age                                -0.693  -0.093               -0.210  \n",
       "Bill_amount                        -0.020  -0.013                0.002  \n",
       "Avg_Sentiment_past_Calls            0.531   0.066                0.569  \n",
       "#_of_calls_in_the_past             -0.233  -0.033                0.056  \n",
       "used_app_before                     1.000   0.088                0.602  \n",
       "Income                              0.088   1.000                0.032  \n",
       "used_website_before                 0.602   0.032                1.000  "
      ]
     },
     "execution_count": 75,
     "metadata": {},
     "output_type": "execute_result"
    }
   ],
   "source": [
    "store_orders_corr = store_orders[['Called_within_1_day','Age','Bill_amount','Avg_Sentiment_past_Calls',\n",
    "                                  '#_of_calls_in_the_past','used_app_before','Income','used_website_before']]\n",
    "store_orders_corr.corr()"
   ]
  },
  {
   "cell_type": "code",
   "execution_count": 124,
   "metadata": {
    "scrolled": true
   },
   "outputs": [
    {
     "data": {
      "image/png": "[encoded data removed]",
      "text/plain": [
       "<matplotlib.figure.Figure at 0x124bd7e48>"
      ]
     },
     "metadata": {},
     "output_type": "display_data"
    }
   ],
   "source": [
    "ax_sns = sns.heatmap(store_orders_corr.corr(), cmap='RdBu_r');\n",
    "ax_sns.set_xticklabels(ax_sns.get_xticklabels(),rotation=76);\n",
    "ax_sns.set_yticklabels(ax_sns.get_yticklabels(),rotation=0);"
   ]
  },
  {
   "cell_type": "markdown",
   "metadata": {},
   "source": [
    "## Feature selection"
   ]
  },
  {
   "cell_type": "code",
   "execution_count": 77,
   "metadata": {
    "collapsed": true
   },
   "outputs": [],
   "source": [
    "from sklearn.feature_selection import SelectKBest\n",
    "from sklearn.feature_selection import chi2\n",
    "from sklearn.preprocessing import MinMaxScaler"
   ]
  },
  {
   "cell_type": "code",
   "execution_count": 78,
   "metadata": {
    "collapsed": true
   },
   "outputs": [],
   "source": [
    "X_orig = store_orders[['Age','Bill_amount', '#_of_calls_in_the_past','used_app_before','Income','used_website_before']]\n",
    "y_orig = store_orders['Called_within_1_day']\n",
    "\n",
    "# scale all values to between 0 and 1\n",
    "scaler = MinMaxScaler()\n",
    "X_scaled = scaler.fit_transform(X_orig)"
   ]
  },
  {
   "cell_type": "code",
   "execution_count": 79,
   "metadata": {
    "scrolled": true
   },
   "outputs": [
    {
     "data": {
      "text/plain": [
       "{('#_of_calls_in_the_past', 91.221892167646445),\n",
       " ('Age', 287.36002077945466),\n",
       " ('Bill_amount', 0.058440533169989178),\n",
       " ('Income', 1.1367710518890264),\n",
       " ('used_app_before', 173.65954195416685),\n",
       " ('used_website_before', 11.684694957375196)}"
      ]
     },
     "execution_count": 79,
     "metadata": {},
     "output_type": "execute_result"
    }
   ],
   "source": [
    "selector = SelectKBest(chi2, k='all')\n",
    "selector.fit(X_scaled, y_orig)\n",
    "\n",
    "X_new = selector.transform(X_scaled)\n",
    "\n",
    "X_orig.columns[selector.get_support(indices=True)]\n",
    "vector_names = list(X_orig.columns[selector.get_support(indices=True)])\n",
    "scores = selector.scores_\n",
    "\n",
    "chi_ranks = zip(vector_names, scores)\n",
    "set(chi_ranks)"
   ]
  },
  {
   "cell_type": "markdown",
   "metadata": {},
   "source": [
    "Top 3 features: Age, used_app_before, and #_of_calls_in_the_past\n",
    "\n",
    "Selected featuers in line with the box plots and correlations."
   ]
  },
  {
   "cell_type": "markdown",
   "metadata": {},
   "source": [
    "## Logistic Regression - selected features"
   ]
  },
  {
   "cell_type": "code",
   "execution_count": 110,
   "metadata": {
    "collapsed": true
   },
   "outputs": [],
   "source": [
    "from sklearn.metrics import classification_report,confusion_matrix\n",
    "from sklearn.model_selection import train_test_split\n",
    "from sklearn.linear_model import LogisticRegression\n",
    "\n",
    "store_orders_test = store_orders.dropna()\n",
    "\n",
    "X_train, X_test, y_train, y_test = train_test_split(store_orders[['Age','used_app_before','#_of_calls_in_the_past']], \n",
    "                                                    y_orig, test_size=0.30, \n",
    "                                                    random_state=99)\n",
    "\n",
    "logmodel = LogisticRegression()\n",
    "logmodel.fit(X_train,y_train);"
   ]
  },
  {
   "cell_type": "code",
   "execution_count": 81,
   "metadata": {
    "scrolled": true
   },
   "outputs": [
    {
     "name": "stdout",
     "output_type": "stream",
     "text": [
      "             precision    recall  f1-score   support\n",
      "\n",
      "          0       1.00      1.00      1.00       233\n",
      "          1       1.00      1.00      1.00        67\n",
      "\n",
      "avg / total       1.00      1.00      1.00       300\n",
      "\n"
     ]
    }
   ],
   "source": [
    "log_predictions = logmodel.predict(X_test)\n",
    "print(classification_report(y_test,log_predictions))"
   ]
  },
  {
   "cell_type": "code",
   "execution_count": 112,
   "metadata": {},
   "outputs": [
    {
     "data": {
      "text/plain": [
       "[array([ 0.98745656,  0.01254344]),\n",
       " array([ 0.95638499,  0.04361501]),\n",
       " array([ 0.98719858,  0.01280142]),\n",
       " array([ 0.99434387,  0.00565613]),\n",
       " array([ 0.00564051,  0.99435949]),\n",
       " array([ 0.99649965,  0.00350035]),\n",
       " array([ 0.01122467,  0.98877533]),\n",
       " array([ 0.96261704,  0.03738296]),\n",
       " array([ 0.99221684,  0.00778316]),\n",
       " array([ 0.01949638,  0.98050362]),\n",
       " array([ 0.99262527,  0.00737473]),\n",
       " array([ 0.99589201,  0.00410799]),\n",
       " array([ 0.96083146,  0.03916854]),\n",
       " array([ 0.88647942,  0.11352058]),\n",
       " array([ 0.95638499,  0.04361501]),\n",
       " array([ 0.78922543,  0.21077457]),\n",
       " array([ 0.98564421,  0.01435579]),\n",
       " array([ 0.9951794,  0.0048206]),\n",
       " array([ 0.9951794,  0.0048206]),\n",
       " array([ 0.00252547,  0.99747453]),\n",
       " array([ 0.00589571,  0.99410429]),\n",
       " array([ 0.99589201,  0.00410799]),\n",
       " array([ 0.99336448,  0.00663552]),\n",
       " array([ 0.01793601,  0.98206399]),\n",
       " array([ 0.01049039,  0.98950961]),\n",
       " array([ 0.99507946,  0.00492054]),\n",
       " array([ 0.97656353,  0.02343647]),\n",
       " array([ 0.00200946,  0.99799054]),\n",
       " array([ 0.99087253,  0.00912747]),\n",
       " array([ 0.00160394,  0.99839606]),\n",
       " array([ 0.97601052,  0.02398948]),\n",
       " array([ 0.98803476,  0.01196524]),\n",
       " array([ 0.02200171,  0.97799829]),\n",
       " array([ 0.0066172,  0.9933828]),\n",
       " array([ 0.98888899,  0.01111101]),\n",
       " array([ 0.99745924,  0.00254076]),\n",
       " array([ 0.11607249,  0.88392751]),\n",
       " array([ 0.99221684,  0.00778316]),\n",
       " array([ 0.98170589,  0.01829411]),\n",
       " array([ 0.97443741,  0.02556259]),\n",
       " array([ 0.9951794,  0.0048206]),\n",
       " array([ 0.97695738,  0.02304262]),\n",
       " array([ 0.02999433,  0.97000567]),\n",
       " array([ 0.99155333,  0.00844667]),\n",
       " array([ 0.98929854,  0.01070146]),\n",
       " array([ 0.99701768,  0.00298232]),\n",
       " array([ 0.00479166,  0.99520834]),\n",
       " array([ 0.03161558,  0.96838442]),\n",
       " array([ 0.98278437,  0.01721563]),\n",
       " array([ 0.98201492,  0.01798508]),\n",
       " array([ 0.83775604,  0.16224396]),\n",
       " array([ 0.97984398,  0.02015602]),\n",
       " array([ 0.03434893,  0.96565107]),\n",
       " array([ 0.99434387,  0.00565613]),\n",
       " array([ 0.99221684,  0.00778316]),\n",
       " array([ 0.30707206,  0.69292794]),\n",
       " array([ 0.99649965,  0.00350035]),\n",
       " array([ 0.9408327,  0.0591673]),\n",
       " array([ 0.99783557,  0.00216443]),\n",
       " array([ 0.92984796,  0.07015204]),\n",
       " array([ 0.0011399,  0.9988601]),\n",
       " array([ 0.80416748,  0.19583252]),\n",
       " array([  7.04219903e-04,   9.99295780e-01]),\n",
       " array([ 0.99336448,  0.00663552]),\n",
       " array([ 0.98929854,  0.01070146]),\n",
       " array([ 0.02207215,  0.97792785]),\n",
       " array([ 0.00564051,  0.99435949]),\n",
       " array([ 0.99224204,  0.00775796]),\n",
       " array([ 0.00479166,  0.99520834]),\n",
       " array([ 0.99649965,  0.00350035]),\n",
       " array([ 0.98530224,  0.01469776]),\n",
       " array([ 0.00319431,  0.99680569]),\n",
       " array([ 0.97984398,  0.02015602]),\n",
       " array([ 0.98530224,  0.01469776]),\n",
       " array([ 0.97072778,  0.02927222]),\n",
       " array([ 0.98539662,  0.01460338]),\n",
       " array([ 0.97536637,  0.02463363]),\n",
       " array([ 0.97984398,  0.02015602]),\n",
       " array([ 0.9951794,  0.0048206]),\n",
       " array([ 0.99745924,  0.00254076]),\n",
       " array([ 0.98278437,  0.01721563]),\n",
       " array([ 0.98803476,  0.01196524]),\n",
       " array([ 0.99783557,  0.00216443]),\n",
       " array([ 0.99701768,  0.00298232]),\n",
       " array([ 0.98961591,  0.01038409]),\n",
       " array([ 0.99434387,  0.00565613]),\n",
       " array([ 0.98278437,  0.01721563]),\n",
       " array([ 0.99434387,  0.00565613]),\n",
       " array([ 0.99087253,  0.00912747]),\n",
       " array([ 0.01045652,  0.98954348]),\n",
       " array([ 0.99336448,  0.00663552]),\n",
       " array([ 0.99701768,  0.00298232]),\n",
       " array([ 0.81471517,  0.18528483]),\n",
       " array([ 0.0285238,  0.9714762]),\n",
       " array([ 0.02940019,  0.97059981]),\n",
       " array([ 0.99701768,  0.00298232]),\n",
       " array([ 0.97984398,  0.02015602]),\n",
       " array([ 0.99087253,  0.00912747]),\n",
       " array([ 0.98745656,  0.01254344]),\n",
       " array([ 0.99701768,  0.00298232]),\n",
       " array([ 0.98530224,  0.01469776]),\n",
       " array([ 0.98979271,  0.01020729]),\n",
       " array([ 0.99701768,  0.00298232]),\n",
       " array([ 0.03018512,  0.96981488]),\n",
       " array([ 0.05463386,  0.94536614]),\n",
       " array([ 0.99745924,  0.00254076]),\n",
       " array([ 0.99221684,  0.00778316]),\n",
       " array([ 0.97658043,  0.02341957]),\n",
       " array([ 0.01752004,  0.98247996]),\n",
       " array([ 0.85842957,  0.14157043]),\n",
       " array([ 0.00710534,  0.99289466]),\n",
       " array([ 0.04481437,  0.95518563]),\n",
       " array([ 0.98469291,  0.01530709]),\n",
       " array([ 0.97137847,  0.02862153]),\n",
       " array([ 0.98745656,  0.01254344]),\n",
       " array([ 0.99071427,  0.00928573]),\n",
       " array([ 0.97185694,  0.02814306]),\n",
       " array([ 0.98395586,  0.01604414]),\n",
       " array([ 0.99745924,  0.00254076]),\n",
       " array([ 0.01436268,  0.98563732]),\n",
       " array([ 0.99649965,  0.00350035]),\n",
       " array([ 0.99221684,  0.00778316]),\n",
       " array([ 0.07523411,  0.92476589]),\n",
       " array([ 0.98076624,  0.01923376]),\n",
       " array([ 0.9951794,  0.0048206]),\n",
       " array([ 0.00418161,  0.99581839]),\n",
       " array([ 0.99434387,  0.00565613]),\n",
       " array([ 0.99701768,  0.00298232]),\n",
       " array([ 0.90757274,  0.09242726]),\n",
       " array([  4.45498325e-04,   9.99554502e-01]),\n",
       " array([ 0.96798842,  0.03201158]),\n",
       " array([ 0.99324913,  0.00675087]),\n",
       " array([ 0.99336448,  0.00663552]),\n",
       " array([ 0.98278437,  0.01721563]),\n",
       " array([ 0.9951794,  0.0048206]),\n",
       " array([ 0.99651104,  0.00348896]),\n",
       " array([ 0.99132282,  0.00867718]),\n",
       " array([ 0.98929854,  0.01070146]),\n",
       " array([ 0.98929854,  0.01070146]),\n",
       " array([ 0.00773657,  0.99226343]),\n",
       " array([ 0.99221684,  0.00778316]),\n",
       " array([ 0.99434387,  0.00565613]),\n",
       " array([ 0.98745656,  0.01254344]),\n",
       " array([ 0.96508728,  0.03491272]),\n",
       " array([ 0.00357474,  0.99642526]),\n",
       " array([ 0.97984398,  0.02015602]),\n",
       " array([ 0.99068415,  0.00931585]),\n",
       " array([ 0.97383557,  0.02616443]),\n",
       " array([ 0.00116362,  0.99883638]),\n",
       " array([ 0.98278437,  0.01721563]),\n",
       " array([ 0.99087253,  0.00912747]),\n",
       " array([ 0.02259372,  0.97740628]),\n",
       " array([ 0.98278437,  0.01721563]),\n",
       " array([ 0.9951794,  0.0048206]),\n",
       " array([ 0.00525247,  0.99474753]),\n",
       " array([ 0.99815626,  0.00184374]),\n",
       " array([ 0.99336448,  0.00663552]),\n",
       " array([ 0.00205794,  0.99794206]),\n",
       " array([ 0.06885004,  0.93114996]),\n",
       " array([ 0.01172955,  0.98827045]),\n",
       " array([ 0.96941432,  0.03058568]),\n",
       " array([ 0.99336448,  0.00663552]),\n",
       " array([ 0.98278437,  0.01721563]),\n",
       " array([ 0.98929854,  0.01070146]),\n",
       " array([ 0.99745924,  0.00254076]),\n",
       " array([ 0.97260996,  0.02739004]),\n",
       " array([ 0.99589201,  0.00410799]),\n",
       " array([ 0.01315551,  0.98684449]),\n",
       " array([ 0.99649965,  0.00350035]),\n",
       " array([ 0.99589201,  0.00410799]),\n",
       " array([ 0.0012205,  0.9987795]),\n",
       " array([ 0.98509691,  0.01490309]),\n",
       " array([ 0.97984398,  0.02015602]),\n",
       " array([  7.36247779e-04,   9.99263752e-01]),\n",
       " array([ 0.98043619,  0.01956381]),\n",
       " array([ 0.97858532,  0.02141468]),\n",
       " array([ 0.0022033,  0.9977967]),\n",
       " array([ 0.98530224,  0.01469776]),\n",
       " array([ 0.99336448,  0.00663552]),\n",
       " array([ 0.99087253,  0.00912747]),\n",
       " array([ 0.99087253,  0.00912747]),\n",
       " array([ 0.99783557,  0.00216443]),\n",
       " array([ 0.00153924,  0.99846076]),\n",
       " array([ 0.05923554,  0.94076446]),\n",
       " array([ 0.00910234,  0.99089766]),\n",
       " array([ 0.99221684,  0.00778316]),\n",
       " array([ 0.98914843,  0.01085157]),\n",
       " array([ 0.99783557,  0.00216443]),\n",
       " array([ 0.97949844,  0.02050156]),\n",
       " array([ 0.99336448,  0.00663552]),\n",
       " array([ 0.99783557,  0.00216443]),\n",
       " array([ 0.9957198,  0.0042802]),\n",
       " array([ 0.99745924,  0.00254076]),\n",
       " array([ 0.99336448,  0.00663552]),\n",
       " array([ 0.99745924,  0.00254076]),\n",
       " array([ 0.99701768,  0.00298232]),\n",
       " array([ 0.96579982,  0.03420018]),\n",
       " array([ 0.00539629,  0.99460371]),\n",
       " array([ 0.01605182,  0.98394818]),\n",
       " array([ 0.99589201,  0.00410799]),\n",
       " array([ 0.01141888,  0.98858112]),\n",
       " array([ 0.98530224,  0.01469776]),\n",
       " array([ 0.98838916,  0.01161084]),\n",
       " array([ 0.98929854,  0.01070146]),\n",
       " array([ 0.99649965,  0.00350035]),\n",
       " array([ 0.99336448,  0.00663552]),\n",
       " array([ 0.96798842,  0.03201158]),\n",
       " array([ 0.98278437,  0.01721563]),\n",
       " array([ 0.97443741,  0.02556259]),\n",
       " array([ 0.99701768,  0.00298232]),\n",
       " array([ 0.99783557,  0.00216443]),\n",
       " array([ 0.9951794,  0.0048206]),\n",
       " array([ 0.99462383,  0.00537617]),\n",
       " array([ 0.99336448,  0.00663552]),\n",
       " array([ 0.97259027,  0.02740973]),\n",
       " array([ 0.99519505,  0.00480495]),\n",
       " array([ 0.99336448,  0.00663552]),\n",
       " array([ 0.05553697,  0.94446303]),\n",
       " array([ 0.99649965,  0.00350035]),\n",
       " array([ 0.95638499,  0.04361501]),\n",
       " array([ 0.96259045,  0.03740955]),\n",
       " array([  8.10010029e-04,   9.99189990e-01]),\n",
       " array([ 0.99783557,  0.00216443]),\n",
       " array([ 0.00231087,  0.99768913]),\n",
       " array([ 0.97260996,  0.02739004]),\n",
       " array([ 0.93418046,  0.06581954]),\n",
       " array([ 0.99221684,  0.00778316]),\n",
       " array([ 0.00108324,  0.99891676]),\n",
       " array([ 0.99589201,  0.00410799]),\n",
       " array([ 0.97608694,  0.02391306]),\n",
       " array([  7.90904571e-04,   9.99209095e-01]),\n",
       " array([ 0.99129466,  0.00870534]),\n",
       " array([ 0.99221684,  0.00778316]),\n",
       " array([ 0.94916887,  0.05083113]),\n",
       " array([ 0.97984398,  0.02015602]),\n",
       " array([ 0.99701768,  0.00298232]),\n",
       " array([ 0.02259372,  0.97740628]),\n",
       " array([ 0.01254946,  0.98745054]),\n",
       " array([ 0.99434387,  0.00565613]),\n",
       " array([ 0.01793601,  0.98206399]),\n",
       " array([ 0.98745656,  0.01254344]),\n",
       " array([ 0.99087253,  0.00912747]),\n",
       " array([ 0.9957198,  0.0042802]),\n",
       " array([ 0.99745924,  0.00254076]),\n",
       " array([ 0.96083146,  0.03916854]),\n",
       " array([ 0.97072778,  0.02927222]),\n",
       " array([ 0.99649965,  0.00350035]),\n",
       " array([ 0.99701768,  0.00298232]),\n",
       " array([ 0.93122847,  0.06877153]),\n",
       " array([ 0.99815626,  0.00184374]),\n",
       " array([ 0.05324806,  0.94675194]),\n",
       " array([ 0.99649965,  0.00350035]),\n",
       " array([ 0.99434387,  0.00565613]),\n",
       " array([ 0.99221684,  0.00778316]),\n",
       " array([ 0.99745924,  0.00254076]),\n",
       " array([ 0.97851671,  0.02148329]),\n",
       " array([ 0.98278437,  0.01721563]),\n",
       " array([ 0.99049191,  0.00950809]),\n",
       " array([ 0.97435586,  0.02564414]),\n",
       " array([ 0.90167318,  0.09832682]),\n",
       " array([ 0.99649965,  0.00350035]),\n",
       " array([ 0.99815626,  0.00184374]),\n",
       " array([ 0.99434387,  0.00565613]),\n",
       " array([ 0.99327101,  0.00672899]),\n",
       " array([ 0.89318261,  0.10681739]),\n",
       " array([ 0.99205598,  0.00794402]),\n",
       " array([ 0.99589201,  0.00410799]),\n",
       " array([ 0.98749698,  0.01250302]),\n",
       " array([ 0.99167046,  0.00832954]),\n",
       " array([ 0.99221684,  0.00778316]),\n",
       " array([ 0.99221684,  0.00778316]),\n",
       " array([ 0.99087253,  0.00912747]),\n",
       " array([ 0.89318261,  0.10681739]),\n",
       " array([ 0.97313464,  0.02686536]),\n",
       " array([ 0.00762921,  0.99237079]),\n",
       " array([ 0.97984398,  0.02015602]),\n",
       " array([ 0.99371307,  0.00628693]),\n",
       " array([ 0.07034904,  0.92965096]),\n",
       " array([ 0.99191806,  0.00808194]),\n",
       " array([ 0.98530224,  0.01469776]),\n",
       " array([ 0.99221684,  0.00778316]),\n",
       " array([ 0.99783557,  0.00216443]),\n",
       " array([ 0.83775604,  0.16224396]),\n",
       " array([ 0.83775604,  0.16224396]),\n",
       " array([ 0.97984398,  0.02015602]),\n",
       " array([ 0.97658043,  0.02341957]),\n",
       " array([ 0.97984398,  0.02015602]),\n",
       " array([ 0.98318391,  0.01681609]),\n",
       " array([ 0.01531442,  0.98468558]),\n",
       " array([ 0.99727987,  0.00272013]),\n",
       " array([ 0.98530224,  0.01469776]),\n",
       " array([ 0.98745656,  0.01254344]),\n",
       " array([ 0.97851671,  0.02148329]),\n",
       " array([ 0.04022225,  0.95977775]),\n",
       " array([ 0.99649965,  0.00350035]),\n",
       " array([ 0.99289809,  0.00710191]),\n",
       " array([ 0.98745656,  0.01254344]),\n",
       " array([ 0.98745656,  0.01254344]),\n",
       " array([ 0.99701768,  0.00298232]),\n",
       " array([ 0.07358887,  0.92641113])]"
      ]
     },
     "execution_count": 112,
     "metadata": {},
     "output_type": "execute_result"
    }
   ],
   "source": [
    "# used for probability\n",
    "list(logmodel.predict_proba(X_test))"
   ]
  },
  {
   "cell_type": "markdown",
   "metadata": {},
   "source": [
    "### Logistic Regression - full features"
   ]
  },
  {
   "cell_type": "code",
   "execution_count": 82,
   "metadata": {
    "collapsed": true
   },
   "outputs": [],
   "source": [
    "y_orig = store_orders['Called_within_1_day']\n",
    "\n",
    "# scale all values to between 0 and 1\n",
    "scaler = MinMaxScaler()\n",
    "X_scaled = scaler.fit_transform(store_orders.drop(['Customer_ID','Called_within_1_day', 'Avg_Sentiment_past_Calls'],axis=1))\n",
    "\n",
    "X_train, X_test, y_train, y_test = train_test_split(store_orders.drop(['Called_within_1_day', 'Avg_Sentiment_past_Calls'],axis=1), \n",
    "                                                    y_orig, test_size=0.30, \n",
    "                                                    random_state=99)\n",
    "\n",
    "logmodel = LogisticRegression()\n",
    "logmodel.fit(X_train,y_train);"
   ]
  },
  {
   "cell_type": "code",
   "execution_count": 83,
   "metadata": {
    "scrolled": true
   },
   "outputs": [
    {
     "name": "stdout",
     "output_type": "stream",
     "text": [
      "             precision    recall  f1-score   support\n",
      "\n",
      "          0       0.92      0.91      0.91       233\n",
      "          1       0.69      0.72      0.70        67\n",
      "\n",
      "avg / total       0.87      0.86      0.86       300\n",
      "\n"
     ]
    }
   ],
   "source": [
    "log_predictions = logmodel.predict(X_test)\n",
    "print(classification_report(y_test,log_predictions))"
   ]
  },
  {
   "cell_type": "code",
   "execution_count": 84,
   "metadata": {},
   "outputs": [
    {
     "name": "stdout",
     "output_type": "stream",
     "text": [
      "[[211  22]\n",
      " [ 19  48]]\n"
     ]
    }
   ],
   "source": [
    "#TP #FN\n",
    "#FP #TN\n",
    "print(confusion_matrix(y_test,log_predictions))"
   ]
  },
  {
   "cell_type": "markdown",
   "metadata": {},
   "source": [
    "## Decision Tree"
   ]
  },
  {
   "cell_type": "code",
   "execution_count": 85,
   "metadata": {
    "collapsed": true
   },
   "outputs": [],
   "source": [
    "from sklearn.tree import DecisionTreeClassifier"
   ]
  },
  {
   "cell_type": "code",
   "execution_count": 86,
   "metadata": {
    "collapsed": true
   },
   "outputs": [],
   "source": [
    "X_train, X_test, y_train, y_test = train_test_split(store_orders[['Age','used_app_before','#_of_calls_in_the_past']], store_orders['Called_within_1_day'], test_size=0.30, random_state=99)"
   ]
  },
  {
   "cell_type": "code",
   "execution_count": 87,
   "metadata": {},
   "outputs": [
    {
     "data": {
      "text/plain": [
       "DecisionTreeClassifier(class_weight=None, criterion='gini', max_depth=None,\n",
       "            max_features=None, max_leaf_nodes=None,\n",
       "            min_impurity_decrease=0.0, min_impurity_split=None,\n",
       "            min_samples_leaf=1, min_samples_split=2,\n",
       "            min_weight_fraction_leaf=0.0, presort=False, random_state=None,\n",
       "            splitter='best')"
      ]
     },
     "execution_count": 87,
     "metadata": {},
     "output_type": "execute_result"
    }
   ],
   "source": [
    "dtree = DecisionTreeClassifier()\n",
    "dtree.fit(X_train,y_train)"
   ]
  },
  {
   "cell_type": "code",
   "execution_count": 88,
   "metadata": {
    "scrolled": true
   },
   "outputs": [
    {
     "name": "stdout",
     "output_type": "stream",
     "text": [
      "             precision    recall  f1-score   support\n",
      "\n",
      "          0       1.00      1.00      1.00       233\n",
      "          1       1.00      1.00      1.00        67\n",
      "\n",
      "avg / total       1.00      1.00      1.00       300\n",
      "\n"
     ]
    }
   ],
   "source": [
    "dtree_predictions = dtree.predict(X_test)\n",
    "print(classification_report(y_test,dtree_predictions))"
   ]
  },
  {
   "cell_type": "markdown",
   "metadata": {},
   "source": [
    "## Tree Visualization"
   ]
  },
  {
   "cell_type": "code",
   "execution_count": 89,
   "metadata": {
    "scrolled": true
   },
   "outputs": [],
   "source": [
    "from IPython.display import Image  \n",
    "from sklearn.externals.six import StringIO  \n",
    "from sklearn.tree import export_graphviz\n",
    "import pydot \n",
    "import os\n",
    "\n",
    "#os.environ[\"PATH\"] += os.pathsep + 'C:/Program Files (x86)/Graphviz2.38/bin/'\n",
    "\n",
    "#features = list(['Age','used_app_before','Income'])"
   ]
  },
  {
   "cell_type": "code",
   "execution_count": 90,
   "metadata": {},
   "outputs": [],
   "source": [
    "#dot_data = StringIO()  \n",
    "#export_graphviz(dtree, out_file=dot_data,feature_names=features,filled=True,rounded=True)\n",
    "\n",
    "#graph = pydot.graph_from_dot_data(dot_data.getvalue())  \n",
    "#Image(graph[0].create_png())  "
   ]
  },
  {
   "cell_type": "code",
   "execution_count": 91,
   "metadata": {
    "collapsed": true
   },
   "outputs": [],
   "source": [
    "from sklearn.ensemble import RandomForestClassifier\n",
    "from sklearn.feature_selection import RFECV"
   ]
  },
  {
   "cell_type": "code",
   "execution_count": 105,
   "metadata": {
    "scrolled": true
   },
   "outputs": [],
   "source": [
    "X_train, X_test, y_train, y_test = train_test_split(store_orders[['Age','Bill_amount', '#_of_calls_in_the_past','used_app_before','Income','used_website_before']], store_orders['Called_within_1_day'], test_size=0.30, random_state=99)\n",
    "\n",
    "rfc = RandomForestClassifier(n_estimators=100)\n",
    "rfc_fitted = rfc.fit(X_train, y_train);"
   ]
  },
  {
   "cell_type": "code",
   "execution_count": 106,
   "metadata": {},
   "outputs": [
    {
     "name": "stdout",
     "output_type": "stream",
     "text": [
      "[[233   0]\n",
      " [  0  67]]\n"
     ]
    }
   ],
   "source": [
    "rfc_pred = rfc.predict(X_test)\n",
    "print(confusion_matrix(y_test,rfc_pred))"
   ]
  },
  {
   "cell_type": "code",
   "execution_count": 94,
   "metadata": {
    "scrolled": true
   },
   "outputs": [
    {
     "name": "stdout",
     "output_type": "stream",
     "text": [
      "             precision    recall  f1-score   support\n",
      "\n",
      "          0       1.00      1.00      1.00       233\n",
      "          1       1.00      1.00      1.00        67\n",
      "\n",
      "avg / total       1.00      1.00      1.00       300\n",
      "\n"
     ]
    }
   ],
   "source": [
    "print(classification_report(y_test,rfc_pred))"
   ]
  },
  {
   "cell_type": "code",
   "execution_count": 95,
   "metadata": {
    "scrolled": true
   },
   "outputs": [
    {
     "data": {
      "text/plain": [
       "{('#_of_calls_in_the_past', 0.14757116815589927),\n",
       " ('Age', 0.58310530160528129),\n",
       " ('Bill_amount', 0.0048463154573962349),\n",
       " ('Income', 0.0081055207611277144),\n",
       " ('used_app_before', 0.23557401050484239),\n",
       " ('used_website_before', 0.020797683515453028)}"
      ]
     },
     "execution_count": 95,
     "metadata": {},
     "output_type": "execute_result"
    }
   ],
   "source": [
    "vector_names = list(X_orig.columns)\n",
    "\n",
    "rfc_ranks = zip(vector_names, rfc.feature_importances_)\n",
    "set(rfc_ranks)"
   ]
  },
  {
   "cell_type": "markdown",
   "metadata": {},
   "source": [
    "Top 3 features: Age, used_app_before, and #_of_calls_in_the_past\n",
    "\n",
    "Selected featuers the same as features selected using chi square test"
   ]
  },
  {
   "cell_type": "markdown",
   "metadata": {},
   "source": [
    "### Call Sentiment - analyze those with sentiments recorded"
   ]
  },
  {
   "cell_type": "code",
   "execution_count": 97,
   "metadata": {},
   "outputs": [
    {
     "data": {
      "text/plain": [
       "Called_within_1_day\n",
       "0    256\n",
       "1    249\n",
       "Name: Customer_ID, dtype: int64"
      ]
     },
     "execution_count": 97,
     "metadata": {},
     "output_type": "execute_result"
    }
   ],
   "source": [
    "store_orders_sentiment = store_orders[store_orders['Avg_Sentiment_past_Calls'].notnull()]\n",
    "# Outlier in Bill_amount of 10,0000,0000 - remove it\n",
    "store_orders_sentiment = store_orders_sentiment[store_orders_sentiment['Bill_amount'] < 1000000.000] \n",
    "store_orders_sentiment.groupby('Called_within_1_day').count()['Customer_ID']\n",
    "#sns.boxplot(x='Called_within_1_day',y='Income',data=store_orders_sentiment,palette='winter', ax=ax[0,2])"
   ]
  },
  {
   "cell_type": "code",
   "execution_count": 103,
   "metadata": {
    "scrolled": true
   },
   "outputs": [
    {
     "data": {
      "text/html": [
       "<div>\n",
       "<style>\n",
       "    .dataframe thead tr:only-child th {\n",
       "        text-align: right;\n",
       "    }\n",
       "\n",
       "    .dataframe thead th {\n",
       "        text-align: left;\n",
       "    }\n",
       "\n",
       "    .dataframe tbody tr th {\n",
       "        vertical-align: top;\n",
       "    }\n",
       "</style>\n",
       "<table border=\"1\" class=\"dataframe\">\n",
       "  <thead>\n",
       "    <tr style=\"text-align: right;\">\n",
       "      <th></th>\n",
       "      <th>Customer_ID</th>\n",
       "      <th>Age</th>\n",
       "      <th>Bill_amount</th>\n",
       "      <th>used_app_before</th>\n",
       "      <th>used_website_before</th>\n",
       "      <th>Income</th>\n",
       "      <th>#_of_calls_in_the_past</th>\n",
       "      <th>Avg_Sentiment_past_Calls</th>\n",
       "    </tr>\n",
       "    <tr>\n",
       "      <th>Called_within_1_day</th>\n",
       "      <th></th>\n",
       "      <th></th>\n",
       "      <th></th>\n",
       "      <th></th>\n",
       "      <th></th>\n",
       "      <th></th>\n",
       "      <th></th>\n",
       "      <th></th>\n",
       "    </tr>\n",
       "  </thead>\n",
       "  <tbody>\n",
       "    <tr>\n",
       "      <th>0</th>\n",
       "      <td>0.508</td>\n",
       "      <td>22.582</td>\n",
       "      <td>10.711</td>\n",
       "      <td>0.910</td>\n",
       "      <td>0.910</td>\n",
       "      <td>305643.043</td>\n",
       "      <td>10.223</td>\n",
       "      <td>2.809</td>\n",
       "    </tr>\n",
       "    <tr>\n",
       "      <th>1</th>\n",
       "      <td>0.496</td>\n",
       "      <td>65.430</td>\n",
       "      <td>10.980</td>\n",
       "      <td>0.080</td>\n",
       "      <td>0.602</td>\n",
       "      <td>281267.016</td>\n",
       "      <td>10.667</td>\n",
       "      <td>-7.458</td>\n",
       "    </tr>\n",
       "  </tbody>\n",
       "</table>\n",
       "</div>"
      ],
      "text/plain": [
       "                     Customer_ID    Age  Bill_amount  used_app_before  \\\n",
       "Called_within_1_day                                                     \n",
       "0                          0.508 22.582       10.711            0.910   \n",
       "1                          0.496 65.430       10.980            0.080   \n",
       "\n",
       "                     used_website_before     Income  #_of_calls_in_the_past  \\\n",
       "Called_within_1_day                                                           \n",
       "0                                  0.910 305643.043                  10.223   \n",
       "1                                  0.602 281267.016                  10.667   \n",
       "\n",
       "                     Avg_Sentiment_past_Calls  \n",
       "Called_within_1_day                            \n",
       "0                                       2.809  \n",
       "1                                      -7.458  "
      ]
     },
     "execution_count": 103,
     "metadata": {},
     "output_type": "execute_result"
    }
   ],
   "source": [
    "store_orders_sentiment.groupby('Called_within_1_day').mean()"
   ]
  },
  {
   "cell_type": "code",
   "execution_count": 99,
   "metadata": {},
   "outputs": [
    {
     "data": {
      "text/plain": [
       "Called_within_1_day         1.000\n",
       "Age                         0.950\n",
       "Bill_amount                 0.023\n",
       "Avg_Sentiment_past_Calls   -0.606\n",
       "#_of_calls_in_the_past      0.037\n",
       "used_app_before            -0.830\n",
       "Income                     -0.106\n",
       "used_website_before        -0.359\n",
       "Name: Called_within_1_day, dtype: float64"
      ]
     },
     "execution_count": 99,
     "metadata": {},
     "output_type": "execute_result"
    }
   ],
   "source": [
    "store_orders_sentiment_corr = store_orders_sentiment[['Called_within_1_day','Age','Bill_amount','Avg_Sentiment_past_Calls',\n",
    "                                  '#_of_calls_in_the_past','used_app_before','Income','used_website_before']]\n",
    "store_orders_sentiment_corr.corr()['Called_within_1_day']"
   ]
  },
  {
   "cell_type": "code",
   "execution_count": 100,
   "metadata": {
    "collapsed": true
   },
   "outputs": [],
   "source": [
    "X_train, X_test, y_train, y_test = train_test_split(store_orders_sentiment[['Age','Bill_amount', '#_of_calls_in_the_past','used_app_before','Income','used_website_before','Avg_Sentiment_past_Calls']], store_orders_sentiment['Called_within_1_day'], test_size=0.30, random_state=99)\n",
    "\n",
    "rfc = RandomForestClassifier(n_estimators=100)\n",
    "rfc.fit(X_train, y_train);"
   ]
  },
  {
   "cell_type": "code",
   "execution_count": 101,
   "metadata": {
    "scrolled": true
   },
   "outputs": [
    {
     "data": {
      "text/plain": [
       "{('#_of_calls_in_the_past', 0.022880799409901186),\n",
       " ('Age', 0.54015943185889459),\n",
       " ('Avg_Sentiment_past_Calls', 0.16254431769222016),\n",
       " ('Bill_amount', 0.0070566941839748983),\n",
       " ('Income', 0.017327093279453518),\n",
       " ('used_app_before', 0.22103594448461145),\n",
       " ('used_website_before', 0.028995719090944297)}"
      ]
     },
     "execution_count": 101,
     "metadata": {},
     "output_type": "execute_result"
    }
   ],
   "source": [
    "vector_names = list(X_train.columns)\n",
    "\n",
    "rfc_ranks = zip(vector_names, rfc.feature_importances_)\n",
    "set(rfc_ranks)"
   ]
  },
  {
   "cell_type": "markdown",
   "metadata": {},
   "source": [
    "Age and used_app_before seem to be the most important indicators, followed by Avg_Sentiment_past_Calls"
   ]
  },
  {
   "cell_type": "raw",
   "metadata": {},
   "source": [
    "# disabled - use rfc to handle negatives\n",
    "X_orig = store_orders_sentiment[['Age','Bill_amount', '#_of_calls_in_the_past','used_app_before','Income','used_website_before','Avg_Sentiment_past_Calls']]\n",
    "y_orig = store_orders_sentiment['Called_within_1_day']\n",
    "\n",
    "# scale all values to between 0 and 1\n",
    "scaler = MinMaxScaler()\n",
    "X_scaled = scaler.fit_transform(X_orig)\n",
    "\n",
    "selector = SelectKBest(chi2, k='all')\n",
    "selector.fit(X_scaled, y_orig)\n",
    "\n",
    "X_new = selector.transform(X_scaled)\n",
    "X_new.shape\n",
    "\n",
    "vector_names = list(X_orig.columns)\n",
    "scores = selector.scores_\n",
    "\n",
    "chi_ranks = zip(vector_names, scores)\n",
    "set(chi_ranks)"
   ]
  }
 ],
 "metadata": {
  "kernelspec": {
   "display_name": "Python 3",
   "language": "python",
   "name": "python3"
  },
  "language_info": {
   "codemirror_mode": {
    "name": "ipython",
    "version": 3
   },
   "file_extension": ".py",
   "mimetype": "text/x-python",
   "name": "python",
   "nbconvert_exporter": "python",
   "pygments_lexer": "ipython3",
   "version": "3.5.3"
  }
 },
 "nbformat": 4,
 "nbformat_minor": 2
}
