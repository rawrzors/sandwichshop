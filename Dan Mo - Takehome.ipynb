{
 "cells": [
  {
   "cell_type": "code",
   "execution_count": 38,
   "metadata": {
    "collapsed": true
   },
   "outputs": [],
   "source": [
    "import pandas as pd\n",
    "import seaborn as sns\n",
    "import matplotlib.pyplot as plt\n",
    "%matplotlib inline\n",
    "pd.set_option('display.float_format', lambda x: '%.3f' % x)"
   ]
  },
  {
   "cell_type": "code",
   "execution_count": 167,
   "metadata": {
    "scrolled": true
   },
   "outputs": [
    {
     "data": {
      "text/html": [
       "<div>\n",
       "<style>\n",
       "    .dataframe thead tr:only-child th {\n",
       "        text-align: right;\n",
       "    }\n",
       "\n",
       "    .dataframe thead th {\n",
       "        text-align: left;\n",
       "    }\n",
       "\n",
       "    .dataframe tbody tr th {\n",
       "        vertical-align: top;\n",
       "    }\n",
       "</style>\n",
       "<table border=\"1\" class=\"dataframe\">\n",
       "  <thead>\n",
       "    <tr style=\"text-align: right;\">\n",
       "      <th></th>\n",
       "      <th>Customer_ID</th>\n",
       "      <th>Called_within_1_day</th>\n",
       "      <th>Age</th>\n",
       "      <th>Bill_amount</th>\n",
       "      <th>used_app_before</th>\n",
       "      <th>used_website_before</th>\n",
       "      <th>Income</th>\n",
       "      <th>#_of_calls_in_the_past</th>\n",
       "      <th>Avg_Sentiment_past_Calls</th>\n",
       "    </tr>\n",
       "  </thead>\n",
       "  <tbody>\n",
       "    <tr>\n",
       "      <th>0</th>\n",
       "      <td>0.999</td>\n",
       "      <td>1</td>\n",
       "      <td>53.000</td>\n",
       "      <td>15</td>\n",
       "      <td>0</td>\n",
       "      <td>0</td>\n",
       "      <td>$433,342</td>\n",
       "      <td>8</td>\n",
       "      <td>-20.000</td>\n",
       "    </tr>\n",
       "    <tr>\n",
       "      <th>1</th>\n",
       "      <td>0.304</td>\n",
       "      <td>1</td>\n",
       "      <td>77.000</td>\n",
       "      <td>13</td>\n",
       "      <td>0</td>\n",
       "      <td>0</td>\n",
       "      <td>$115,520</td>\n",
       "      <td>9</td>\n",
       "      <td>-10.000</td>\n",
       "    </tr>\n",
       "    <tr>\n",
       "      <th>2</th>\n",
       "      <td>0.289</td>\n",
       "      <td>1</td>\n",
       "      <td>79.000</td>\n",
       "      <td>8</td>\n",
       "      <td>0</td>\n",
       "      <td>0</td>\n",
       "      <td>$191,138</td>\n",
       "      <td>9</td>\n",
       "      <td>-16.000</td>\n",
       "    </tr>\n",
       "  </tbody>\n",
       "</table>\n",
       "</div>"
      ],
      "text/plain": [
       "   Customer_ID  Called_within_1_day    Age  Bill_amount  used_app_before  \\\n",
       "0        0.999                    1 53.000           15                0   \n",
       "1        0.304                    1 77.000           13                0   \n",
       "2        0.289                    1 79.000            8                0   \n",
       "\n",
       "   used_website_before     Income  #_of_calls_in_the_past  \\\n",
       "0                    0  $433,342                        8   \n",
       "1                    0  $115,520                        9   \n",
       "2                    0  $191,138                        9   \n",
       "\n",
       "   Avg_Sentiment_past_Calls  \n",
       "0                   -20.000  \n",
       "1                   -10.000  \n",
       "2                   -16.000  "
      ]
     },
     "execution_count": 167,
     "metadata": {},
     "output_type": "execute_result"
    }
   ],
   "source": [
    "store_orders = pd.read_csv(\"verizon_takehome.csv\")\n",
    "store_orders.head(3)"
   ]
  },
  {
   "cell_type": "markdown",
   "metadata": {},
   "source": [
    "## Clean Data"
   ]
  },
  {
   "cell_type": "code",
   "execution_count": 168,
   "metadata": {},
   "outputs": [],
   "source": [
    "# Outlier in Bill_amount of 10,0000,0000 - remove it\n",
    "store_orders = store_orders[store_orders['Bill_amount'] < 10000000.000] \n",
    "\n",
    "# remove dollar sign from Income column\n",
    "store_orders['Income'] = store_orders['Income'].replace({'\\$':'', ',': ''}, regex = True).astype('int64')"
   ]
  },
  {
   "cell_type": "code",
   "execution_count": 169,
   "metadata": {},
   "outputs": [
    {
     "data": {
      "text/html": [
       "<div>\n",
       "<style>\n",
       "    .dataframe thead tr:only-child th {\n",
       "        text-align: right;\n",
       "    }\n",
       "\n",
       "    .dataframe thead th {\n",
       "        text-align: left;\n",
       "    }\n",
       "\n",
       "    .dataframe tbody tr th {\n",
       "        vertical-align: top;\n",
       "    }\n",
       "</style>\n",
       "<table border=\"1\" class=\"dataframe\">\n",
       "  <thead>\n",
       "    <tr style=\"text-align: right;\">\n",
       "      <th></th>\n",
       "      <th>Customer_ID</th>\n",
       "      <th>Age</th>\n",
       "      <th>Bill_amount</th>\n",
       "      <th>used_app_before</th>\n",
       "      <th>used_website_before</th>\n",
       "      <th>Income</th>\n",
       "      <th>#_of_calls_in_the_past</th>\n",
       "      <th>Avg_Sentiment_past_Calls</th>\n",
       "    </tr>\n",
       "    <tr>\n",
       "      <th>Called_within_1_day</th>\n",
       "      <th></th>\n",
       "      <th></th>\n",
       "      <th></th>\n",
       "      <th></th>\n",
       "      <th></th>\n",
       "      <th></th>\n",
       "      <th></th>\n",
       "      <th></th>\n",
       "    </tr>\n",
       "  </thead>\n",
       "  <tbody>\n",
       "    <tr>\n",
       "      <th>0</th>\n",
       "      <td>0.490</td>\n",
       "      <td>22.641</td>\n",
       "      <td>10.739</td>\n",
       "      <td>0.872</td>\n",
       "      <td>0.821</td>\n",
       "      <td>303159.196</td>\n",
       "      <td>3.489</td>\n",
       "      <td>2.809</td>\n",
       "    </tr>\n",
       "    <tr>\n",
       "      <th>1</th>\n",
       "      <td>0.496</td>\n",
       "      <td>65.430</td>\n",
       "      <td>10.980</td>\n",
       "      <td>0.080</td>\n",
       "      <td>0.602</td>\n",
       "      <td>281267.016</td>\n",
       "      <td>10.667</td>\n",
       "      <td>-7.458</td>\n",
       "    </tr>\n",
       "  </tbody>\n",
       "</table>\n",
       "</div>"
      ],
      "text/plain": [
       "                     Customer_ID    Age  Bill_amount  used_app_before  \\\n",
       "Called_within_1_day                                                     \n",
       "0                          0.490 22.641       10.739            0.872   \n",
       "1                          0.496 65.430       10.980            0.080   \n",
       "\n",
       "                     used_website_before     Income  #_of_calls_in_the_past  \\\n",
       "Called_within_1_day                                                           \n",
       "0                                  0.821 303159.196                   3.489   \n",
       "1                                  0.602 281267.016                  10.667   \n",
       "\n",
       "                     Avg_Sentiment_past_Calls  \n",
       "Called_within_1_day                            \n",
       "0                                       2.809  \n",
       "1                                      -7.458  "
      ]
     },
     "execution_count": 169,
     "metadata": {},
     "output_type": "execute_result"
    }
   ],
   "source": [
    "average_ages = store_orders.groupby('Called_within_1_day').mean()\n",
    "average_ages"
   ]
  },
  {
   "cell_type": "code",
   "execution_count": 170,
   "metadata": {},
   "outputs": [],
   "source": [
    "# impute missing age values using the average for each called / not called\n",
    "\n",
    "def impute_age(order_row):\n",
    "    if pd.isnull(order_row['Age']):\n",
    "        if order_row['Called_within_1_day'] == 1:\n",
    "            return average_ages['Age'][1]\n",
    "        else:\n",
    "            return average_ages['Age'][0]\n",
    "    else:\n",
    "        return order_row['Age']\n",
    "        \n",
    "store_orders['Age'] = store_orders.apply(impute_age, axis=1)"
   ]
  },
  {
   "cell_type": "code",
   "execution_count": 160,
   "metadata": {},
   "outputs": [
    {
     "data": {
      "text/plain": [
       "<matplotlib.axes._subplots.AxesSubplot at 0x159ee588>"
      ]
     },
     "execution_count": 160,
     "metadata": {},
     "output_type": "execute_result"
    },
    {
     "data": {
      "image/png": "[encoded data removed]",
      "text/plain": [
       "<matplotlib.figure.Figure at 0x159ecb38>"
      ]
     },
     "metadata": {},
     "output_type": "display_data"
    }
   ],
   "source": [
    "# null values\n",
    "sns.heatmap(store_orders.isnull(),cbar=False, cmap=\"plasma\")"
   ]
  },
  {
   "cell_type": "markdown",
   "metadata": {},
   "source": [
    "## Exploratory analysis"
   ]
  },
  {
   "cell_type": "code",
   "execution_count": 137,
   "metadata": {
    "scrolled": false
   },
   "outputs": [
    {
     "data": {
      "text/html": [
       "<div>\n",
       "<style>\n",
       "    .dataframe thead tr:only-child th {\n",
       "        text-align: right;\n",
       "    }\n",
       "\n",
       "    .dataframe thead th {\n",
       "        text-align: left;\n",
       "    }\n",
       "\n",
       "    .dataframe tbody tr th {\n",
       "        vertical-align: top;\n",
       "    }\n",
       "</style>\n",
       "<table border=\"1\" class=\"dataframe\">\n",
       "  <thead>\n",
       "    <tr style=\"text-align: right;\">\n",
       "      <th></th>\n",
       "      <th>Called_within_1_day</th>\n",
       "      <th>Age</th>\n",
       "      <th>Bill_amount</th>\n",
       "      <th>used_app_before</th>\n",
       "      <th>used_website_before</th>\n",
       "      <th>Income</th>\n",
       "      <th>#_of_calls_in_the_past</th>\n",
       "      <th>Avg_Sentiment_past_Calls</th>\n",
       "      <th>Unnamed: 9</th>\n",
       "    </tr>\n",
       "  </thead>\n",
       "  <tbody>\n",
       "    <tr>\n",
       "      <th>count</th>\n",
       "      <td>999.000</td>\n",
       "      <td>999.000</td>\n",
       "      <td>999.000</td>\n",
       "      <td>999.000</td>\n",
       "      <td>999.000</td>\n",
       "      <td>999.000</td>\n",
       "      <td>999.000</td>\n",
       "      <td>505.000</td>\n",
       "      <td>0.000</td>\n",
       "    </tr>\n",
       "    <tr>\n",
       "      <th>mean</th>\n",
       "      <td>0.249</td>\n",
       "      <td>33.306</td>\n",
       "      <td>10.799</td>\n",
       "      <td>0.675</td>\n",
       "      <td>0.767</td>\n",
       "      <td>29.770</td>\n",
       "      <td>5.278</td>\n",
       "      <td>-2.253</td>\n",
       "      <td>nan</td>\n",
       "    </tr>\n",
       "    <tr>\n",
       "      <th>std</th>\n",
       "      <td>0.433</td>\n",
       "      <td>19.425</td>\n",
       "      <td>5.928</td>\n",
       "      <td>0.469</td>\n",
       "      <td>0.423</td>\n",
       "      <td>11.402</td>\n",
       "      <td>6.782</td>\n",
       "      <td>8.478</td>\n",
       "      <td>nan</td>\n",
       "    </tr>\n",
       "    <tr>\n",
       "      <th>min</th>\n",
       "      <td>0.000</td>\n",
       "      <td>15.000</td>\n",
       "      <td>1.000</td>\n",
       "      <td>0.000</td>\n",
       "      <td>0.000</td>\n",
       "      <td>10.029</td>\n",
       "      <td>0.000</td>\n",
       "      <td>-20.000</td>\n",
       "      <td>nan</td>\n",
       "    </tr>\n",
       "    <tr>\n",
       "      <th>25%</th>\n",
       "      <td>0.000</td>\n",
       "      <td>20.000</td>\n",
       "      <td>6.000</td>\n",
       "      <td>0.000</td>\n",
       "      <td>1.000</td>\n",
       "      <td>19.968</td>\n",
       "      <td>0.000</td>\n",
       "      <td>-9.000</td>\n",
       "      <td>nan</td>\n",
       "    </tr>\n",
       "    <tr>\n",
       "      <th>50%</th>\n",
       "      <td>0.000</td>\n",
       "      <td>25.000</td>\n",
       "      <td>11.000</td>\n",
       "      <td>1.000</td>\n",
       "      <td>1.000</td>\n",
       "      <td>29.837</td>\n",
       "      <td>1.000</td>\n",
       "      <td>1.000</td>\n",
       "      <td>nan</td>\n",
       "    </tr>\n",
       "    <tr>\n",
       "      <th>75%</th>\n",
       "      <td>0.000</td>\n",
       "      <td>30.000</td>\n",
       "      <td>16.000</td>\n",
       "      <td>1.000</td>\n",
       "      <td>1.000</td>\n",
       "      <td>39.577</td>\n",
       "      <td>11.000</td>\n",
       "      <td>5.000</td>\n",
       "      <td>nan</td>\n",
       "    </tr>\n",
       "    <tr>\n",
       "      <th>max</th>\n",
       "      <td>1.000</td>\n",
       "      <td>80.000</td>\n",
       "      <td>20.000</td>\n",
       "      <td>1.000</td>\n",
       "      <td>1.000</td>\n",
       "      <td>49.953</td>\n",
       "      <td>20.000</td>\n",
       "      <td>10.000</td>\n",
       "      <td>nan</td>\n",
       "    </tr>\n",
       "  </tbody>\n",
       "</table>\n",
       "</div>"
      ],
      "text/plain": [
       "       Called_within_1_day     Age  Bill_amount  used_app_before  \\\n",
       "count              999.000 999.000      999.000          999.000   \n",
       "mean                 0.249  33.306       10.799            0.675   \n",
       "std                  0.433  19.425        5.928            0.469   \n",
       "min                  0.000  15.000        1.000            0.000   \n",
       "25%                  0.000  20.000        6.000            0.000   \n",
       "50%                  0.000  25.000       11.000            1.000   \n",
       "75%                  0.000  30.000       16.000            1.000   \n",
       "max                  1.000  80.000       20.000            1.000   \n",
       "\n",
       "       used_website_before  Income  #_of_calls_in_the_past  \\\n",
       "count              999.000 999.000                 999.000   \n",
       "mean                 0.767  29.770                   5.278   \n",
       "std                  0.423  11.402                   6.782   \n",
       "min                  0.000  10.029                   0.000   \n",
       "25%                  1.000  19.968                   0.000   \n",
       "50%                  1.000  29.837                   1.000   \n",
       "75%                  1.000  39.577                  11.000   \n",
       "max                  1.000  49.953                  20.000   \n",
       "\n",
       "       Avg_Sentiment_past_Calls  Unnamed: 9  \n",
       "count                   505.000       0.000  \n",
       "mean                     -2.253         nan  \n",
       "std                       8.478         nan  \n",
       "min                     -20.000         nan  \n",
       "25%                      -9.000         nan  \n",
       "50%                       1.000         nan  \n",
       "75%                       5.000         nan  \n",
       "max                      10.000         nan  "
      ]
     },
     "execution_count": 137,
     "metadata": {},
     "output_type": "execute_result"
    }
   ],
   "source": [
    "store_orders.drop('Customer_ID', axis=1).describe()"
   ]
  },
  {
   "cell_type": "code",
   "execution_count": 47,
   "metadata": {
    "scrolled": false
   },
   "outputs": [
    {
     "data": {
      "text/plain": [
       "<matplotlib.axes._subplots.AxesSubplot at 0x157d62e8>"
      ]
     },
     "execution_count": 47,
     "metadata": {},
     "output_type": "execute_result"
    },
    {
     "data": {
      "image/png": "[encoded data removed]",
      "text/plain": [
       "<matplotlib.figure.Figure at 0x157e5e80>"
      ]
     },
     "metadata": {},
     "output_type": "display_data"
    }
   ],
   "source": [
    "sns.set_style('whitegrid')\n",
    "sns.distplot(store_orders['Age'].dropna(), kde=False)"
   ]
  },
  {
   "cell_type": "code",
   "execution_count": 130,
   "metadata": {
    "scrolled": true
   },
   "outputs": [
    {
     "data": {
      "text/plain": [
       "<matplotlib.axes._subplots.AxesSubplot at 0x15b6c630>"
      ]
     },
     "execution_count": 130,
     "metadata": {},
     "output_type": "execute_result"
    },
    {
     "data": {
      "image/png": "[encoded data removed]",
      "text/plain": [
       "<matplotlib.figure.Figure at 0x15a51e48>"
      ]
     },
     "metadata": {},
     "output_type": "display_data"
    }
   ],
   "source": [
    "fig, ax = plt.subplots(2,3, figsize=(14,5))\n",
    "sns.boxplot(x='Called_within_1_day',y='Age',data=store_orders,palette='winter', ax=ax[0,0])\n",
    "sns.boxplot(x='Called_within_1_day',y='Bill_amount',data=store_orders,palette='winter', ax=ax[0,1])\n",
    "sns.boxplot(x='Called_within_1_day',y='Income',data=store_orders,palette='winter', ax=ax[0,2])\n",
    "sns.boxplot(x='Called_within_1_day',y='#_of_calls_in_the_past',data=store_orders,palette='winter', ax=ax[1,0])\n",
    "sns.boxplot(x='Called_within_1_day',y='Avg_Sentiment_past_Calls',data=store_orders,palette='winter', ax=ax[1,1])\n",
    "\n",
    "# Large difference in Age - likely good indicator of if they will call \n",
    "# Significant differnce in #_of_calls_in_the_past and Avg_Sentiment_past_Calls\n",
    "# Little difference in Bill_amount, Income - likely poor indicator of i they will call "
   ]
  },
  {
   "cell_type": "code",
   "execution_count": 131,
   "metadata": {
    "scrolled": true
   },
   "outputs": [
    {
     "data": {
      "text/html": [
       "<div>\n",
       "<style>\n",
       "    .dataframe thead tr:only-child th {\n",
       "        text-align: right;\n",
       "    }\n",
       "\n",
       "    .dataframe thead th {\n",
       "        text-align: left;\n",
       "    }\n",
       "\n",
       "    .dataframe tbody tr th {\n",
       "        vertical-align: top;\n",
       "    }\n",
       "</style>\n",
       "<table border=\"1\" class=\"dataframe\">\n",
       "  <thead>\n",
       "    <tr style=\"text-align: right;\">\n",
       "      <th></th>\n",
       "      <th>Called_within_1_day</th>\n",
       "      <th>Age</th>\n",
       "      <th>Bill_amount</th>\n",
       "      <th>Avg_Sentiment_past_Calls</th>\n",
       "      <th>#_of_calls_in_the_past</th>\n",
       "      <th>used_app_before</th>\n",
       "      <th>Income</th>\n",
       "      <th>used_website_before</th>\n",
       "    </tr>\n",
       "  </thead>\n",
       "  <tbody>\n",
       "    <tr>\n",
       "      <th>Called_within_1_day</th>\n",
       "      <td>1.000</td>\n",
       "      <td>0.953</td>\n",
       "      <td>0.018</td>\n",
       "      <td>-0.606</td>\n",
       "      <td>0.458</td>\n",
       "      <td>-0.731</td>\n",
       "      <td>-0.083</td>\n",
       "      <td>-0.224</td>\n",
       "    </tr>\n",
       "    <tr>\n",
       "      <th>Age</th>\n",
       "      <td>0.953</td>\n",
       "      <td>1.000</td>\n",
       "      <td>0.019</td>\n",
       "      <td>-0.572</td>\n",
       "      <td>0.436</td>\n",
       "      <td>-0.694</td>\n",
       "      <td>-0.094</td>\n",
       "      <td>-0.210</td>\n",
       "    </tr>\n",
       "    <tr>\n",
       "      <th>Bill_amount</th>\n",
       "      <td>0.018</td>\n",
       "      <td>0.019</td>\n",
       "      <td>1.000</td>\n",
       "      <td>-0.035</td>\n",
       "      <td>0.035</td>\n",
       "      <td>-0.020</td>\n",
       "      <td>-0.013</td>\n",
       "      <td>0.002</td>\n",
       "    </tr>\n",
       "    <tr>\n",
       "      <th>Avg_Sentiment_past_Calls</th>\n",
       "      <td>-0.606</td>\n",
       "      <td>-0.572</td>\n",
       "      <td>-0.035</td>\n",
       "      <td>1.000</td>\n",
       "      <td>0.035</td>\n",
       "      <td>0.531</td>\n",
       "      <td>0.066</td>\n",
       "      <td>0.569</td>\n",
       "    </tr>\n",
       "    <tr>\n",
       "      <th>#_of_calls_in_the_past</th>\n",
       "      <td>0.458</td>\n",
       "      <td>0.436</td>\n",
       "      <td>0.035</td>\n",
       "      <td>0.035</td>\n",
       "      <td>1.000</td>\n",
       "      <td>-0.233</td>\n",
       "      <td>-0.033</td>\n",
       "      <td>0.056</td>\n",
       "    </tr>\n",
       "    <tr>\n",
       "      <th>used_app_before</th>\n",
       "      <td>-0.731</td>\n",
       "      <td>-0.694</td>\n",
       "      <td>-0.020</td>\n",
       "      <td>0.531</td>\n",
       "      <td>-0.233</td>\n",
       "      <td>1.000</td>\n",
       "      <td>0.088</td>\n",
       "      <td>0.602</td>\n",
       "    </tr>\n",
       "    <tr>\n",
       "      <th>Income</th>\n",
       "      <td>-0.083</td>\n",
       "      <td>-0.094</td>\n",
       "      <td>-0.013</td>\n",
       "      <td>0.066</td>\n",
       "      <td>-0.033</td>\n",
       "      <td>0.088</td>\n",
       "      <td>1.000</td>\n",
       "      <td>0.032</td>\n",
       "    </tr>\n",
       "    <tr>\n",
       "      <th>used_website_before</th>\n",
       "      <td>-0.224</td>\n",
       "      <td>-0.210</td>\n",
       "      <td>0.002</td>\n",
       "      <td>0.569</td>\n",
       "      <td>0.056</td>\n",
       "      <td>0.602</td>\n",
       "      <td>0.032</td>\n",
       "      <td>1.000</td>\n",
       "    </tr>\n",
       "  </tbody>\n",
       "</table>\n",
       "</div>"
      ],
      "text/plain": [
       "                          Called_within_1_day    Age  Bill_amount  \\\n",
       "Called_within_1_day                     1.000  0.953        0.018   \n",
       "Age                                     0.953  1.000        0.019   \n",
       "Bill_amount                             0.018  0.019        1.000   \n",
       "Avg_Sentiment_past_Calls               -0.606 -0.572       -0.035   \n",
       "#_of_calls_in_the_past                  0.458  0.436        0.035   \n",
       "used_app_before                        -0.731 -0.694       -0.020   \n",
       "Income                                 -0.083 -0.094       -0.013   \n",
       "used_website_before                    -0.224 -0.210        0.002   \n",
       "\n",
       "                          Avg_Sentiment_past_Calls  #_of_calls_in_the_past  \\\n",
       "Called_within_1_day                         -0.606                   0.458   \n",
       "Age                                         -0.572                   0.436   \n",
       "Bill_amount                                 -0.035                   0.035   \n",
       "Avg_Sentiment_past_Calls                     1.000                   0.035   \n",
       "#_of_calls_in_the_past                       0.035                   1.000   \n",
       "used_app_before                              0.531                  -0.233   \n",
       "Income                                       0.066                  -0.033   \n",
       "used_website_before                          0.569                   0.056   \n",
       "\n",
       "                          used_app_before  Income  used_website_before  \n",
       "Called_within_1_day                -0.731  -0.083               -0.224  \n",
       "Age                                -0.694  -0.094               -0.210  \n",
       "Bill_amount                        -0.020  -0.013                0.002  \n",
       "Avg_Sentiment_past_Calls            0.531   0.066                0.569  \n",
       "#_of_calls_in_the_past             -0.233  -0.033                0.056  \n",
       "used_app_before                     1.000   0.088                0.602  \n",
       "Income                              0.088   1.000                0.032  \n",
       "used_website_before                 0.602   0.032                1.000  "
      ]
     },
     "execution_count": 131,
     "metadata": {},
     "output_type": "execute_result"
    }
   ],
   "source": [
    "store_orders_corr = store_orders[['Called_within_1_day','Age','Bill_amount','Avg_Sentiment_past_Calls',\n",
    "                                  '#_of_calls_in_the_past','used_app_before','Income','used_website_before']]\n",
    "store_orders_corr.corr()"
   ]
  },
  {
   "cell_type": "code",
   "execution_count": 52,
   "metadata": {
    "scrolled": true
   },
   "outputs": [
    {
     "data": {
      "image/png": "[encoded data removed]",
      "text/plain": [
       "<matplotlib.figure.Figure at 0x155c2ba8>"
      ]
     },
     "metadata": {},
     "output_type": "display_data"
    }
   ],
   "source": [
    "ax_sns = sns.heatmap(store_orders_corr.corr(), cmap='RdBu_r');\n",
    "ax_sns.set_xticklabels(ax_sns.get_xticklabels(),rotation=60);\n",
    "ax_sns.set_yticklabels(ax_sns.get_yticklabels(),rotation=60);"
   ]
  },
  {
   "cell_type": "markdown",
   "metadata": {},
   "source": [
    "## Feature selection"
   ]
  },
  {
   "cell_type": "code",
   "execution_count": 197,
   "metadata": {
    "collapsed": true
   },
   "outputs": [],
   "source": [
    "from sklearn.feature_selection import SelectKBest\n",
    "from sklearn.feature_selection import chi2\n",
    "from sklearn.preprocessing import MinMaxScaler"
   ]
  },
  {
   "cell_type": "code",
   "execution_count": 214,
   "metadata": {},
   "outputs": [],
   "source": [
    "X_orig = store_orders[['Age','Bill_amount', '#_of_calls_in_the_past','used_app_before','Income','used_website_before']]\n",
    "y_orig = store_orders['Called_within_1_day']\n",
    "\n",
    "# scale all values to between 0 and 1\n",
    "scaler = MinMaxScaler()\n",
    "X_scaled = scaler.fit_transform(X_orig)"
   ]
  },
  {
   "cell_type": "code",
   "execution_count": 221,
   "metadata": {
    "scrolled": true
   },
   "outputs": [
    {
     "data": {
      "text/plain": [
       "{('#_of_calls_in_the_past', 91.22189216764653),\n",
       " ('Age', 287.62532204506789),\n",
       " ('Bill_amount', 0.058440533169988138),\n",
       " ('Income', 1.1367710518890202),\n",
       " ('used_app_before', 173.65954195416685),\n",
       " ('used_website_before', 11.684694957375196)}"
      ]
     },
     "execution_count": 221,
     "metadata": {},
     "output_type": "execute_result"
    }
   ],
   "source": [
    "selector = SelectKBest(chi2, k='all')\n",
    "selector.fit(X_scaled, y_orig)\n",
    "\n",
    "X_new = selector.transform(X_scaled)\n",
    "X_new.shape\n",
    "\n",
    "X_orig.columns[selector.get_support(indices=True)]\n",
    "vector_names = list(X_orig.columns[selector.get_support(indices=True)])\n",
    "\n",
    "chi_ranks = zip(vector_names, scores)\n",
    "set(chi_ranks)"
   ]
  },
  {
   "cell_type": "markdown",
   "metadata": {},
   "source": [
    "Top 3 features: Age, used_app_before, and #_of_calls_in_the_past\n",
    "\n",
    "Selected featuers in line with the box plots and correlations."
   ]
  },
  {
   "cell_type": "markdown",
   "metadata": {},
   "source": [
    "## Logistic Regression"
   ]
  },
  {
   "cell_type": "code",
   "execution_count": 79,
   "metadata": {
    "collapsed": true
   },
   "outputs": [],
   "source": [
    "from sklearn.metrics import classification_report,confusion_matrix"
   ]
  },
  {
   "cell_type": "code",
   "execution_count": 226,
   "metadata": {
    "collapsed": true
   },
   "outputs": [],
   "source": [
    "from sklearn.model_selection import train_test_split\n",
    "from sklearn.linear_model import LogisticRegression\n",
    "\n",
    "store_orders_test = store_orders.dropna()\n",
    "\n",
    "X_train, X_test, y_train, y_test = train_test_split(X_scaled, \n",
    "                                                    y_orig, test_size=0.30, \n",
    "                                                    random_state=99)"
   ]
  },
  {
   "cell_type": "code",
   "execution_count": 227,
   "metadata": {},
   "outputs": [],
   "source": [
    "logmodel = LogisticRegression()\n",
    "logmodel.fit(X_train,y_train);"
   ]
  },
  {
   "cell_type": "code",
   "execution_count": 228,
   "metadata": {},
   "outputs": [
    {
     "name": "stdout",
     "output_type": "stream",
     "text": [
      "             precision    recall  f1-score   support\n",
      "\n",
      "          0       1.00      1.00      1.00       233\n",
      "          1       1.00      1.00      1.00        67\n",
      "\n",
      "avg / total       1.00      1.00      1.00       300\n",
      "\n"
     ]
    }
   ],
   "source": [
    "log_predictions = logmodel.predict(X_test)\n",
    "print(classification_report(y_test,log_predictions))"
   ]
  },
  {
   "cell_type": "markdown",
   "metadata": {},
   "source": [
    "## Decision Tree"
   ]
  },
  {
   "cell_type": "code",
   "execution_count": 84,
   "metadata": {
    "collapsed": true
   },
   "outputs": [],
   "source": [
    "from sklearn.tree import DecisionTreeClassifier"
   ]
  },
  {
   "cell_type": "code",
   "execution_count": 233,
   "metadata": {},
   "outputs": [],
   "source": [
    "X_train, X_test, y_train, y_test = train_test_split(store_orders[['Age','used_app_before','Income']], store_orders['Called_within_1_day'], test_size=0.30, random_state=99)"
   ]
  },
  {
   "cell_type": "code",
   "execution_count": 234,
   "metadata": {},
   "outputs": [
    {
     "data": {
      "text/plain": [
       "DecisionTreeClassifier(class_weight=None, criterion='gini', max_depth=None,\n",
       "            max_features=None, max_leaf_nodes=None,\n",
       "            min_impurity_decrease=0.0, min_impurity_split=None,\n",
       "            min_samples_leaf=1, min_samples_split=2,\n",
       "            min_weight_fraction_leaf=0.0, presort=False, random_state=None,\n",
       "            splitter='best')"
      ]
     },
     "execution_count": 234,
     "metadata": {},
     "output_type": "execute_result"
    }
   ],
   "source": [
    "dtree = DecisionTreeClassifier()\n",
    "dtree.fit(X_train,y_train)"
   ]
  },
  {
   "cell_type": "code",
   "execution_count": 235,
   "metadata": {},
   "outputs": [
    {
     "name": "stdout",
     "output_type": "stream",
     "text": [
      "             precision    recall  f1-score   support\n",
      "\n",
      "          0       1.00      1.00      1.00       233\n",
      "          1       1.00      1.00      1.00        67\n",
      "\n",
      "avg / total       1.00      1.00      1.00       300\n",
      "\n"
     ]
    }
   ],
   "source": [
    "dtree_predictions = dtree.predict(X_test)\n",
    "print(classification_report(y_test,dtree_predictions))"
   ]
  },
  {
   "cell_type": "code",
   "execution_count": 236,
   "metadata": {},
   "outputs": [
    {
     "name": "stdout",
     "output_type": "stream",
     "text": [
      "[[233   0]\n",
      " [  0  67]]\n"
     ]
    }
   ],
   "source": [
    "print(confusion_matrix(y_test,dtree_predictions))"
   ]
  },
  {
   "cell_type": "markdown",
   "metadata": {},
   "source": [
    "## Tree Visualization"
   ]
  },
  {
   "cell_type": "code",
   "execution_count": 239,
   "metadata": {
    "scrolled": true
   },
   "outputs": [
    {
     "data": {
      "text/plain": [
       "array([0, 1], dtype=int64)"
      ]
     },
     "execution_count": 239,
     "metadata": {},
     "output_type": "execute_result"
    }
   ],
   "source": [
    "from IPython.display import Image  \n",
    "from sklearn.externals.six import StringIO  \n",
    "from sklearn.tree import export_graphviz\n",
    "import pydot \n",
    "import os\n",
    "\n",
    "os.environ[\"PATH\"] += os.pathsep + 'C:/Program Files (x86)/Graphviz2.38/bin/'\n",
    "\n",
    "features = list(['Age','used_app_before','Income'])\n",
    "dtree.classes_"
   ]
  },
  {
   "cell_type": "code",
   "execution_count": 240,
   "metadata": {},
   "outputs": [
    {
     "data": {
      "image/png": "[encoded data removed]",
      "text/plain": [
       "<IPython.core.display.Image object>"
      ]
     },
     "execution_count": 240,
     "metadata": {},
     "output_type": "execute_result"
    }
   ],
   "source": [
    "dot_data = StringIO()  \n",
    "export_graphviz(dtree, out_file=dot_data,feature_names=features,filled=True,rounded=True)\n",
    "\n",
    "graph = pydot.graph_from_dot_data(dot_data.getvalue())  \n",
    "Image(graph[0].create_png())  "
   ]
  },
  {
   "cell_type": "code",
   "execution_count": 96,
   "metadata": {
    "collapsed": true
   },
   "outputs": [],
   "source": [
    "from sklearn.ensemble import RandomForestClassifier\n",
    "from sklearn.feature_selection import RFECV"
   ]
  },
  {
   "cell_type": "code",
   "execution_count": 257,
   "metadata": {
    "scrolled": true
   },
   "outputs": [],
   "source": [
    "X_train, X_test, y_train, y_test = train_test_split(store_orders[['Age','Bill_amount', '#_of_calls_in_the_past','used_app_before','Income','used_website_before']], store_orders['Called_within_1_day'], test_size=0.30, random_state=99)\n",
    "\n",
    "rfc = RandomForestClassifier(n_estimators=100)\n",
    "rfc.fit(X_train, y_train);"
   ]
  },
  {
   "cell_type": "code",
   "execution_count": 258,
   "metadata": {},
   "outputs": [
    {
     "name": "stdout",
     "output_type": "stream",
     "text": [
      "[[233   0]\n",
      " [  0  67]]\n"
     ]
    }
   ],
   "source": [
    "rfc_pred = rfc.predict(X_test)\n",
    "print(confusion_matrix(y_test,rfc_pred))"
   ]
  },
  {
   "cell_type": "code",
   "execution_count": 259,
   "metadata": {
    "scrolled": true
   },
   "outputs": [
    {
     "name": "stdout",
     "output_type": "stream",
     "text": [
      "             precision    recall  f1-score   support\n",
      "\n",
      "          0       1.00      1.00      1.00       233\n",
      "          1       1.00      1.00      1.00        67\n",
      "\n",
      "avg / total       1.00      1.00      1.00       300\n",
      "\n"
     ]
    }
   ],
   "source": [
    "print(classification_report(y_test,rfc_pred))"
   ]
  },
  {
   "cell_type": "code",
   "execution_count": 260,
   "metadata": {
    "scrolled": true
   },
   "outputs": [
    {
     "data": {
      "text/plain": [
       "{('#_of_calls_in_the_past', 0.14331082919030591),\n",
       " ('Age', 0.60990445352321909),\n",
       " ('Bill_amount', 0.0054068371042998113),\n",
       " ('Income', 0.013543357357037772),\n",
       " ('used_app_before', 0.19975498109559736),\n",
       " ('used_website_before', 0.028079541729540209)}"
      ]
     },
     "execution_count": 260,
     "metadata": {},
     "output_type": "execute_result"
    }
   ],
   "source": [
    "X_train.columns[selector.get_support(indices=True)]\n",
    "vector_names = list(X_orig.columns[selector.get_support(indices=True)])\n",
    "\n",
    "chi_ranks = zip(vector_names, rfc.feature_importances_)\n",
    "set(chi_ranks)"
   ]
  },
  {
   "cell_type": "markdown",
   "metadata": {},
   "source": [
    "Top 3 features: Age, used_app_before, and #_of_calls_in_the_past\n",
    "\n",
    "Selected featuers the same as features selected using chi square test"
   ]
  }
 ],
 "metadata": {
  "kernelspec": {
   "display_name": "Python 3",
   "language": "python",
   "name": "python3"
  },
  "language_info": {
   "codemirror_mode": {
    "name": "ipython",
    "version": 3
   },
   "file_extension": ".py",
   "mimetype": "text/x-python",
   "name": "python",
   "nbconvert_exporter": "python",
   "pygments_lexer": "ipython3",
   "version": "3.6.3"
  }
 },
 "nbformat": 4,
 "nbformat_minor": 2
}
