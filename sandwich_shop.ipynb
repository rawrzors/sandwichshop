{
 "cells": [
  {
   "cell_type": "code",
   "execution_count": 1,
   "metadata": {
    "collapsed": true
   },
   "outputs": [],
   "source": [
    "import pandas as pd\n",
    "import seaborn as sns\n",
    "import matplotlib.pyplot as plt\n",
    "import numpy as np\n",
    "%matplotlib inline\n",
    "pd.set_option('display.float_format', lambda x: '%.3f' % x)"
   ]
  },
  {
   "cell_type": "code",
   "execution_count": 155,
   "metadata": {
    "scrolled": false
   },
   "outputs": [
    {
     "data": {
      "text/html": [
       "<div>\n",
       "<style>\n",
       "    .dataframe thead tr:only-child th {\n",
       "        text-align: right;\n",
       "    }\n",
       "\n",
       "    .dataframe thead th {\n",
       "        text-align: left;\n",
       "    }\n",
       "\n",
       "    .dataframe tbody tr th {\n",
       "        vertical-align: top;\n",
       "    }\n",
       "</style>\n",
       "<table border=\"1\" class=\"dataframe\">\n",
       "  <thead>\n",
       "    <tr style=\"text-align: right;\">\n",
       "      <th></th>\n",
       "      <th>Customer_ID</th>\n",
       "      <th>Called_within_1_day</th>\n",
       "      <th>Age</th>\n",
       "      <th>Bill_amount</th>\n",
       "      <th>used_app_before</th>\n",
       "      <th>used_website_before</th>\n",
       "      <th>Income</th>\n",
       "      <th>#_of_calls_in_the_past</th>\n",
       "      <th>Avg_Sentiment_past_Calls</th>\n",
       "    </tr>\n",
       "  </thead>\n",
       "  <tbody>\n",
       "    <tr>\n",
       "      <th>0</th>\n",
       "      <td>0.999</td>\n",
       "      <td>1</td>\n",
       "      <td>53.000</td>\n",
       "      <td>15</td>\n",
       "      <td>0</td>\n",
       "      <td>0</td>\n",
       "      <td>$433,342</td>\n",
       "      <td>8</td>\n",
       "      <td>-20.000</td>\n",
       "    </tr>\n",
       "    <tr>\n",
       "      <th>1</th>\n",
       "      <td>0.304</td>\n",
       "      <td>1</td>\n",
       "      <td>77.000</td>\n",
       "      <td>13</td>\n",
       "      <td>0</td>\n",
       "      <td>0</td>\n",
       "      <td>$115,520</td>\n",
       "      <td>9</td>\n",
       "      <td>-10.000</td>\n",
       "    </tr>\n",
       "    <tr>\n",
       "      <th>2</th>\n",
       "      <td>0.289</td>\n",
       "      <td>1</td>\n",
       "      <td>79.000</td>\n",
       "      <td>8</td>\n",
       "      <td>0</td>\n",
       "      <td>0</td>\n",
       "      <td>$191,138</td>\n",
       "      <td>9</td>\n",
       "      <td>-16.000</td>\n",
       "    </tr>\n",
       "  </tbody>\n",
       "</table>\n",
       "</div>"
      ],
      "text/plain": [
       "   Customer_ID  Called_within_1_day    Age  Bill_amount  used_app_before  \\\n",
       "0        0.999                    1 53.000           15                0   \n",
       "1        0.304                    1 77.000           13                0   \n",
       "2        0.289                    1 79.000            8                0   \n",
       "\n",
       "   used_website_before     Income  #_of_calls_in_the_past  \\\n",
       "0                    0  $433,342                        8   \n",
       "1                    0  $115,520                        9   \n",
       "2                    0  $191,138                        9   \n",
       "\n",
       "   Avg_Sentiment_past_Calls  \n",
       "0                   -20.000  \n",
       "1                   -10.000  \n",
       "2                   -16.000  "
      ]
     },
     "execution_count": 155,
     "metadata": {},
     "output_type": "execute_result"
    }
   ],
   "source": [
    "store_orders = pd.read_csv(\"sandwich_sales.csv\")\n",
    "store_orders.head(3)"
   ]
  },
  {
   "cell_type": "markdown",
   "metadata": {},
   "source": [
    "## Clean Data"
   ]
  },
  {
   "cell_type": "code",
   "execution_count": 156,
   "metadata": {
    "collapsed": true
   },
   "outputs": [],
   "source": [
    "# Outlier in Bill_amount of 10,0000,0000 - remove it\n",
    "store_orders = store_orders[store_orders['Bill_amount'] < 1000000.000] \n",
    "\n",
    "# remove dollar sign from Income column\n",
    "store_orders['Income'] = store_orders['Income'].astype('str').replace({'\\$':'', ',': ''}, regex = True).astype('int64')"
   ]
  },
  {
   "cell_type": "code",
   "execution_count": 157,
   "metadata": {},
   "outputs": [
    {
     "data": {
      "text/html": [
       "<div>\n",
       "<style>\n",
       "    .dataframe thead tr:only-child th {\n",
       "        text-align: right;\n",
       "    }\n",
       "\n",
       "    .dataframe thead th {\n",
       "        text-align: left;\n",
       "    }\n",
       "\n",
       "    .dataframe tbody tr th {\n",
       "        vertical-align: top;\n",
       "    }\n",
       "</style>\n",
       "<table border=\"1\" class=\"dataframe\">\n",
       "  <thead>\n",
       "    <tr style=\"text-align: right;\">\n",
       "      <th></th>\n",
       "      <th>Customer_ID</th>\n",
       "      <th>Age</th>\n",
       "      <th>Bill_amount</th>\n",
       "      <th>used_app_before</th>\n",
       "      <th>used_website_before</th>\n",
       "      <th>Income</th>\n",
       "      <th>#_of_calls_in_the_past</th>\n",
       "      <th>Avg_Sentiment_past_Calls</th>\n",
       "    </tr>\n",
       "    <tr>\n",
       "      <th>Called_within_1_day</th>\n",
       "      <th></th>\n",
       "      <th></th>\n",
       "      <th></th>\n",
       "      <th></th>\n",
       "      <th></th>\n",
       "      <th></th>\n",
       "      <th></th>\n",
       "      <th></th>\n",
       "    </tr>\n",
       "  </thead>\n",
       "  <tbody>\n",
       "    <tr>\n",
       "      <th>0</th>\n",
       "      <td>0.485</td>\n",
       "      <td>23.000</td>\n",
       "      <td>11</td>\n",
       "      <td>1</td>\n",
       "      <td>1</td>\n",
       "      <td>306597</td>\n",
       "      <td>0</td>\n",
       "      <td>3.000</td>\n",
       "    </tr>\n",
       "    <tr>\n",
       "      <th>1</th>\n",
       "      <td>0.474</td>\n",
       "      <td>66.000</td>\n",
       "      <td>11</td>\n",
       "      <td>0</td>\n",
       "      <td>1</td>\n",
       "      <td>275404</td>\n",
       "      <td>11</td>\n",
       "      <td>-9.000</td>\n",
       "    </tr>\n",
       "  </tbody>\n",
       "</table>\n",
       "</div>"
      ],
      "text/plain": [
       "                     Customer_ID    Age  Bill_amount  used_app_before  \\\n",
       "Called_within_1_day                                                     \n",
       "0                          0.485 23.000           11                1   \n",
       "1                          0.474 66.000           11                0   \n",
       "\n",
       "                     used_website_before  Income  #_of_calls_in_the_past  \\\n",
       "Called_within_1_day                                                        \n",
       "0                                      1  306597                       0   \n",
       "1                                      1  275404                      11   \n",
       "\n",
       "                     Avg_Sentiment_past_Calls  \n",
       "Called_within_1_day                            \n",
       "0                                       3.000  \n",
       "1                                      -9.000  "
      ]
     },
     "execution_count": 157,
     "metadata": {},
     "output_type": "execute_result"
    }
   ],
   "source": [
    "median_ages = store_orders.groupby('Called_within_1_day').median()\n",
    "median_ages"
   ]
  },
  {
   "cell_type": "code",
   "execution_count": 154,
   "metadata": {
    "collapsed": true
   },
   "outputs": [],
   "source": [
    "# impute missing age values using the average for each called / not called\n",
    "def impute_age(order_row):\n",
    "    if pd.isnull(order_row['Age']):\n",
    "        if order_row['Called_within_1_day'] == 1:\n",
    "            return median_ages['Age'][1]\n",
    "        else:\n",
    "            return median_ages['Age'][0]\n",
    "    else:\n",
    "        return order_row['Age']\n",
    "        \n",
    "store_orders['Age'] = store_orders.apply(impute_age, axis=1)"
   ]
  },
  {
   "cell_type": "code",
   "execution_count": 158,
   "metadata": {
    "scrolled": false
   },
   "outputs": [
    {
     "data": {
      "text/plain": [
       "<matplotlib.axes._subplots.AxesSubplot at 0x123b526d8>"
      ]
     },
     "execution_count": 158,
     "metadata": {},
     "output_type": "execute_result"
    },
    {
     "data": {
      "image/png": "[encoded data removed]",
      "text/plain": [
       "<matplotlib.figure.Figure at 0x122cb64a8>"
      ]
     },
     "metadata": {},
     "output_type": "display_data"
    }
   ],
   "source": [
    "# null values\n",
    "sns.heatmap(store_orders.isnull(),cbar=False, cmap=\"plasma\")"
   ]
  },
  {
   "cell_type": "markdown",
   "metadata": {},
   "source": [
    "Drop sentiment column for initial model, then create separate model with it included"
   ]
  },
  {
   "cell_type": "markdown",
   "metadata": {},
   "source": [
    "## Exploratory analysis"
   ]
  },
  {
   "cell_type": "code",
   "execution_count": 7,
   "metadata": {
    "scrolled": true
   },
   "outputs": [
    {
     "data": {
      "text/html": [
       "<div>\n",
       "<style>\n",
       "    .dataframe thead tr:only-child th {\n",
       "        text-align: right;\n",
       "    }\n",
       "\n",
       "    .dataframe thead th {\n",
       "        text-align: left;\n",
       "    }\n",
       "\n",
       "    .dataframe tbody tr th {\n",
       "        vertical-align: top;\n",
       "    }\n",
       "</style>\n",
       "<table border=\"1\" class=\"dataframe\">\n",
       "  <thead>\n",
       "    <tr style=\"text-align: right;\">\n",
       "      <th></th>\n",
       "      <th>Called_within_1_day</th>\n",
       "      <th>Age</th>\n",
       "      <th>Bill_amount</th>\n",
       "      <th>used_app_before</th>\n",
       "      <th>used_website_before</th>\n",
       "      <th>Income</th>\n",
       "      <th>#_of_calls_in_the_past</th>\n",
       "      <th>Avg_Sentiment_past_Calls</th>\n",
       "    </tr>\n",
       "  </thead>\n",
       "  <tbody>\n",
       "    <tr>\n",
       "      <th>count</th>\n",
       "      <td>999.000</td>\n",
       "      <td>999.000</td>\n",
       "      <td>999.000</td>\n",
       "      <td>999.000</td>\n",
       "      <td>999.000</td>\n",
       "      <td>999.000</td>\n",
       "      <td>999.000</td>\n",
       "      <td>505.000</td>\n",
       "    </tr>\n",
       "    <tr>\n",
       "      <th>mean</th>\n",
       "      <td>0.249</td>\n",
       "      <td>33.314</td>\n",
       "      <td>10.799</td>\n",
       "      <td>0.675</td>\n",
       "      <td>0.767</td>\n",
       "      <td>297702.587</td>\n",
       "      <td>5.278</td>\n",
       "      <td>-2.253</td>\n",
       "    </tr>\n",
       "    <tr>\n",
       "      <th>std</th>\n",
       "      <td>0.433</td>\n",
       "      <td>19.421</td>\n",
       "      <td>5.928</td>\n",
       "      <td>0.469</td>\n",
       "      <td>0.423</td>\n",
       "      <td>114017.773</td>\n",
       "      <td>6.782</td>\n",
       "      <td>8.478</td>\n",
       "    </tr>\n",
       "    <tr>\n",
       "      <th>min</th>\n",
       "      <td>0.000</td>\n",
       "      <td>15.000</td>\n",
       "      <td>1.000</td>\n",
       "      <td>0.000</td>\n",
       "      <td>0.000</td>\n",
       "      <td>100292.000</td>\n",
       "      <td>0.000</td>\n",
       "      <td>-20.000</td>\n",
       "    </tr>\n",
       "    <tr>\n",
       "      <th>25%</th>\n",
       "      <td>0.000</td>\n",
       "      <td>20.000</td>\n",
       "      <td>6.000</td>\n",
       "      <td>0.000</td>\n",
       "      <td>1.000</td>\n",
       "      <td>199685.000</td>\n",
       "      <td>0.000</td>\n",
       "      <td>-9.000</td>\n",
       "    </tr>\n",
       "    <tr>\n",
       "      <th>50%</th>\n",
       "      <td>0.000</td>\n",
       "      <td>25.000</td>\n",
       "      <td>11.000</td>\n",
       "      <td>1.000</td>\n",
       "      <td>1.000</td>\n",
       "      <td>298373.000</td>\n",
       "      <td>1.000</td>\n",
       "      <td>1.000</td>\n",
       "    </tr>\n",
       "    <tr>\n",
       "      <th>75%</th>\n",
       "      <td>0.000</td>\n",
       "      <td>30.000</td>\n",
       "      <td>16.000</td>\n",
       "      <td>1.000</td>\n",
       "      <td>1.000</td>\n",
       "      <td>395765.000</td>\n",
       "      <td>11.000</td>\n",
       "      <td>5.000</td>\n",
       "    </tr>\n",
       "    <tr>\n",
       "      <th>max</th>\n",
       "      <td>1.000</td>\n",
       "      <td>80.000</td>\n",
       "      <td>20.000</td>\n",
       "      <td>1.000</td>\n",
       "      <td>1.000</td>\n",
       "      <td>499528.000</td>\n",
       "      <td>20.000</td>\n",
       "      <td>10.000</td>\n",
       "    </tr>\n",
       "  </tbody>\n",
       "</table>\n",
       "</div>"
      ],
      "text/plain": [
       "       Called_within_1_day     Age  Bill_amount  used_app_before  \\\n",
       "count              999.000 999.000      999.000          999.000   \n",
       "mean                 0.249  33.314       10.799            0.675   \n",
       "std                  0.433  19.421        5.928            0.469   \n",
       "min                  0.000  15.000        1.000            0.000   \n",
       "25%                  0.000  20.000        6.000            0.000   \n",
       "50%                  0.000  25.000       11.000            1.000   \n",
       "75%                  0.000  30.000       16.000            1.000   \n",
       "max                  1.000  80.000       20.000            1.000   \n",
       "\n",
       "       used_website_before     Income  #_of_calls_in_the_past  \\\n",
       "count              999.000    999.000                 999.000   \n",
       "mean                 0.767 297702.587                   5.278   \n",
       "std                  0.423 114017.773                   6.782   \n",
       "min                  0.000 100292.000                   0.000   \n",
       "25%                  1.000 199685.000                   0.000   \n",
       "50%                  1.000 298373.000                   1.000   \n",
       "75%                  1.000 395765.000                  11.000   \n",
       "max                  1.000 499528.000                  20.000   \n",
       "\n",
       "       Avg_Sentiment_past_Calls  \n",
       "count                   505.000  \n",
       "mean                     -2.253  \n",
       "std                       8.478  \n",
       "min                     -20.000  \n",
       "25%                      -9.000  \n",
       "50%                       1.000  \n",
       "75%                       5.000  \n",
       "max                      10.000  "
      ]
     },
     "execution_count": 7,
     "metadata": {},
     "output_type": "execute_result"
    }
   ],
   "source": [
    "store_orders.drop('Customer_ID', axis=1).describe()"
   ]
  },
  {
   "cell_type": "code",
   "execution_count": 8,
   "metadata": {},
   "outputs": [
    {
     "data": {
      "text/html": [
       "<div>\n",
       "<style>\n",
       "    .dataframe thead tr:only-child th {\n",
       "        text-align: right;\n",
       "    }\n",
       "\n",
       "    .dataframe thead th {\n",
       "        text-align: left;\n",
       "    }\n",
       "\n",
       "    .dataframe tbody tr th {\n",
       "        vertical-align: top;\n",
       "    }\n",
       "</style>\n",
       "<table border=\"1\" class=\"dataframe\">\n",
       "  <thead>\n",
       "    <tr style=\"text-align: right;\">\n",
       "      <th></th>\n",
       "      <th>Customer_ID</th>\n",
       "      <th>Age</th>\n",
       "      <th>Bill_amount</th>\n",
       "      <th>used_app_before</th>\n",
       "      <th>used_website_before</th>\n",
       "      <th>Income</th>\n",
       "      <th>#_of_calls_in_the_past</th>\n",
       "      <th>Avg_Sentiment_past_Calls</th>\n",
       "    </tr>\n",
       "    <tr>\n",
       "      <th>Called_within_1_day</th>\n",
       "      <th></th>\n",
       "      <th></th>\n",
       "      <th></th>\n",
       "      <th></th>\n",
       "      <th></th>\n",
       "      <th></th>\n",
       "      <th></th>\n",
       "      <th></th>\n",
       "    </tr>\n",
       "  </thead>\n",
       "  <tbody>\n",
       "    <tr>\n",
       "      <th>0</th>\n",
       "      <td>0.490</td>\n",
       "      <td>22.652</td>\n",
       "      <td>10.739</td>\n",
       "      <td>0.872</td>\n",
       "      <td>0.821</td>\n",
       "      <td>303159.196</td>\n",
       "      <td>3.489</td>\n",
       "      <td>2.809</td>\n",
       "    </tr>\n",
       "    <tr>\n",
       "      <th>1</th>\n",
       "      <td>0.496</td>\n",
       "      <td>65.430</td>\n",
       "      <td>10.980</td>\n",
       "      <td>0.080</td>\n",
       "      <td>0.602</td>\n",
       "      <td>281267.016</td>\n",
       "      <td>10.667</td>\n",
       "      <td>-7.458</td>\n",
       "    </tr>\n",
       "  </tbody>\n",
       "</table>\n",
       "</div>"
      ],
      "text/plain": [
       "                     Customer_ID    Age  Bill_amount  used_app_before  \\\n",
       "Called_within_1_day                                                     \n",
       "0                          0.490 22.652       10.739            0.872   \n",
       "1                          0.496 65.430       10.980            0.080   \n",
       "\n",
       "                     used_website_before     Income  #_of_calls_in_the_past  \\\n",
       "Called_within_1_day                                                           \n",
       "0                                  0.821 303159.196                   3.489   \n",
       "1                                  0.602 281267.016                  10.667   \n",
       "\n",
       "                     Avg_Sentiment_past_Calls  \n",
       "Called_within_1_day                            \n",
       "0                                       2.809  \n",
       "1                                      -7.458  "
      ]
     },
     "execution_count": 8,
     "metadata": {},
     "output_type": "execute_result"
    }
   ],
   "source": [
    "average_called = store_orders.groupby('Called_within_1_day').mean()\n",
    "average_called"
   ]
  },
  {
   "cell_type": "code",
   "execution_count": 9,
   "metadata": {
    "scrolled": true
   },
   "outputs": [
    {
     "data": {
      "text/plain": [
       "<matplotlib.axes._subplots.AxesSubplot at 0x11d5a4828>"
      ]
     },
     "execution_count": 9,
     "metadata": {},
     "output_type": "execute_result"
    },
    {
     "data": {
      "image/png": "[encoded data removed]",
      "text/plain": [
       "<matplotlib.figure.Figure at 0x11dd01898>"
      ]
     },
     "metadata": {},
     "output_type": "display_data"
    }
   ],
   "source": [
    "sns.set_style('whitegrid')\n",
    "sns.distplot(store_orders['Age'].dropna(), kde=False)"
   ]
  },
  {
   "cell_type": "code",
   "execution_count": 132,
   "metadata": {},
   "outputs": [
    {
     "data": {
      "text/html": [
       "<div>\n",
       "<style>\n",
       "    .dataframe thead tr:only-child th {\n",
       "        text-align: right;\n",
       "    }\n",
       "\n",
       "    .dataframe thead th {\n",
       "        text-align: left;\n",
       "    }\n",
       "\n",
       "    .dataframe tbody tr th {\n",
       "        vertical-align: top;\n",
       "    }\n",
       "</style>\n",
       "<table border=\"1\" class=\"dataframe\">\n",
       "  <thead>\n",
       "    <tr>\n",
       "      <th></th>\n",
       "      <th colspan=\"5\" halign=\"left\">Age</th>\n",
       "    </tr>\n",
       "    <tr>\n",
       "      <th></th>\n",
       "      <th>amin</th>\n",
       "      <th>amax</th>\n",
       "      <th>mean</th>\n",
       "      <th>median</th>\n",
       "      <th>count</th>\n",
       "    </tr>\n",
       "    <tr>\n",
       "      <th>Called_within_1_day</th>\n",
       "      <th></th>\n",
       "      <th></th>\n",
       "      <th></th>\n",
       "      <th></th>\n",
       "      <th></th>\n",
       "    </tr>\n",
       "  </thead>\n",
       "  <tbody>\n",
       "    <tr>\n",
       "      <th>0</th>\n",
       "      <td>15.000</td>\n",
       "      <td>30.000</td>\n",
       "      <td>22.652</td>\n",
       "      <td>23.000</td>\n",
       "      <td>750</td>\n",
       "    </tr>\n",
       "    <tr>\n",
       "      <th>1</th>\n",
       "      <td>50.000</td>\n",
       "      <td>80.000</td>\n",
       "      <td>65.430</td>\n",
       "      <td>66.000</td>\n",
       "      <td>249</td>\n",
       "    </tr>\n",
       "  </tbody>\n",
       "</table>\n",
       "</div>"
      ],
      "text/plain": [
       "                       Age                           \n",
       "                      amin   amax   mean median count\n",
       "Called_within_1_day                                  \n",
       "0                   15.000 30.000 22.652 23.000   750\n",
       "1                   50.000 80.000 65.430 66.000   249"
      ]
     },
     "execution_count": 132,
     "metadata": {},
     "output_type": "execute_result"
    }
   ],
   "source": [
    "gb = store_orders[['Age','Called_within_1_day']].groupby('Called_within_1_day')\n",
    "gb.agg([np.min, np.max, np.mean, np.median, 'count'])"
   ]
  },
  {
   "cell_type": "code",
   "execution_count": 11,
   "metadata": {
    "scrolled": false
   },
   "outputs": [
    {
     "data": {
      "text/plain": [
       "<matplotlib.axes._subplots.AxesSubplot at 0x11daa5c18>"
      ]
     },
     "execution_count": 11,
     "metadata": {},
     "output_type": "execute_result"
    },
    {
     "data": {
      "image/png": "[encoded data removed]",
      "text/plain": [
       "<matplotlib.figure.Figure at 0x11dcdfcc0>"
      ]
     },
     "metadata": {},
     "output_type": "display_data"
    }
   ],
   "source": [
    "fig, ax = plt.subplots(2,3, figsize=(14,5))\n",
    "sns.boxplot(x='Called_within_1_day',y='Age',data=store_orders,palette='winter', ax=ax[0,0])\n",
    "sns.boxplot(x='Called_within_1_day',y='Bill_amount',data=store_orders,palette='winter', ax=ax[0,1])\n",
    "sns.boxplot(x='Called_within_1_day',y='Income',data=store_orders,palette='winter', ax=ax[0,2])\n",
    "sns.boxplot(x='Called_within_1_day',y='#_of_calls_in_the_past',data=store_orders,palette='winter', ax=ax[1,0])\n",
    "sns.boxplot(x='Called_within_1_day',y='Avg_Sentiment_past_Calls',data=store_orders,palette='winter', ax=ax[1,1])\n",
    "\n",
    "# Large difference in Age - likely good indicator of if they will call \n",
    "# Significant differnce in #_of_calls_in_the_past and Avg_Sentiment_past_Calls\n",
    "# Little difference in Bill_amount, Income - likely poor indicator of i they will call "
   ]
  },
  {
   "cell_type": "code",
   "execution_count": 153,
   "metadata": {},
   "outputs": [
    {
     "data": {
      "text/plain": [
       "<matplotlib.text.Text at 0x123b27320>"
      ]
     },
     "execution_count": 153,
     "metadata": {},
     "output_type": "execute_result"
    },
    {
     "data": {
      "image/png": "[encoded data removed]",
      "text/plain": [
       "<matplotlib.figure.Figure at 0x123abcc88>"
      ]
     },
     "metadata": {},
     "output_type": "display_data"
    }
   ],
   "source": [
    "fig, ax = plt.subplots(ncols=2, figsize=(10,3))\n",
    "sns.barplot(x=\"Called_within_1_day\", y=\"used_website_before\", data=store_orders, ax=ax[0]).set_title(\"Used Website\")\n",
    "sns.barplot(x=\"Called_within_1_day\", y=\"used_app_before\", data=store_orders, ax=ax[1]).set_title(\"Used App\")"
   ]
  },
  {
   "cell_type": "code",
   "execution_count": 12,
   "metadata": {
    "scrolled": true
   },
   "outputs": [
    {
     "data": {
      "text/html": [
       "<div>\n",
       "<style>\n",
       "    .dataframe thead tr:only-child th {\n",
       "        text-align: right;\n",
       "    }\n",
       "\n",
       "    .dataframe thead th {\n",
       "        text-align: left;\n",
       "    }\n",
       "\n",
       "    .dataframe tbody tr th {\n",
       "        vertical-align: top;\n",
       "    }\n",
       "</style>\n",
       "<table border=\"1\" class=\"dataframe\">\n",
       "  <thead>\n",
       "    <tr style=\"text-align: right;\">\n",
       "      <th></th>\n",
       "      <th>Called_within_1_day</th>\n",
       "      <th>Age</th>\n",
       "      <th>Bill_amount</th>\n",
       "      <th>Avg_Sentiment_past_Calls</th>\n",
       "      <th>#_of_calls_in_the_past</th>\n",
       "      <th>used_app_before</th>\n",
       "      <th>Income</th>\n",
       "      <th>used_website_before</th>\n",
       "    </tr>\n",
       "  </thead>\n",
       "  <tbody>\n",
       "    <tr>\n",
       "      <th>Called_within_1_day</th>\n",
       "      <td>1.000</td>\n",
       "      <td>0.953</td>\n",
       "      <td>0.018</td>\n",
       "      <td>-0.606</td>\n",
       "      <td>0.458</td>\n",
       "      <td>-0.731</td>\n",
       "      <td>-0.083</td>\n",
       "      <td>-0.224</td>\n",
       "    </tr>\n",
       "    <tr>\n",
       "      <th>Age</th>\n",
       "      <td>0.953</td>\n",
       "      <td>1.000</td>\n",
       "      <td>0.019</td>\n",
       "      <td>-0.573</td>\n",
       "      <td>0.437</td>\n",
       "      <td>-0.693</td>\n",
       "      <td>-0.093</td>\n",
       "      <td>-0.210</td>\n",
       "    </tr>\n",
       "    <tr>\n",
       "      <th>Bill_amount</th>\n",
       "      <td>0.018</td>\n",
       "      <td>0.019</td>\n",
       "      <td>1.000</td>\n",
       "      <td>-0.035</td>\n",
       "      <td>0.035</td>\n",
       "      <td>-0.020</td>\n",
       "      <td>-0.013</td>\n",
       "      <td>0.002</td>\n",
       "    </tr>\n",
       "    <tr>\n",
       "      <th>Avg_Sentiment_past_Calls</th>\n",
       "      <td>-0.606</td>\n",
       "      <td>-0.573</td>\n",
       "      <td>-0.035</td>\n",
       "      <td>1.000</td>\n",
       "      <td>0.035</td>\n",
       "      <td>0.531</td>\n",
       "      <td>0.066</td>\n",
       "      <td>0.569</td>\n",
       "    </tr>\n",
       "    <tr>\n",
       "      <th>#_of_calls_in_the_past</th>\n",
       "      <td>0.458</td>\n",
       "      <td>0.437</td>\n",
       "      <td>0.035</td>\n",
       "      <td>0.035</td>\n",
       "      <td>1.000</td>\n",
       "      <td>-0.233</td>\n",
       "      <td>-0.033</td>\n",
       "      <td>0.056</td>\n",
       "    </tr>\n",
       "    <tr>\n",
       "      <th>used_app_before</th>\n",
       "      <td>-0.731</td>\n",
       "      <td>-0.693</td>\n",
       "      <td>-0.020</td>\n",
       "      <td>0.531</td>\n",
       "      <td>-0.233</td>\n",
       "      <td>1.000</td>\n",
       "      <td>0.088</td>\n",
       "      <td>0.602</td>\n",
       "    </tr>\n",
       "    <tr>\n",
       "      <th>Income</th>\n",
       "      <td>-0.083</td>\n",
       "      <td>-0.093</td>\n",
       "      <td>-0.013</td>\n",
       "      <td>0.066</td>\n",
       "      <td>-0.033</td>\n",
       "      <td>0.088</td>\n",
       "      <td>1.000</td>\n",
       "      <td>0.032</td>\n",
       "    </tr>\n",
       "    <tr>\n",
       "      <th>used_website_before</th>\n",
       "      <td>-0.224</td>\n",
       "      <td>-0.210</td>\n",
       "      <td>0.002</td>\n",
       "      <td>0.569</td>\n",
       "      <td>0.056</td>\n",
       "      <td>0.602</td>\n",
       "      <td>0.032</td>\n",
       "      <td>1.000</td>\n",
       "    </tr>\n",
       "  </tbody>\n",
       "</table>\n",
       "</div>"
      ],
      "text/plain": [
       "                          Called_within_1_day    Age  Bill_amount  \\\n",
       "Called_within_1_day                     1.000  0.953        0.018   \n",
       "Age                                     0.953  1.000        0.019   \n",
       "Bill_amount                             0.018  0.019        1.000   \n",
       "Avg_Sentiment_past_Calls               -0.606 -0.573       -0.035   \n",
       "#_of_calls_in_the_past                  0.458  0.437        0.035   \n",
       "used_app_before                        -0.731 -0.693       -0.020   \n",
       "Income                                 -0.083 -0.093       -0.013   \n",
       "used_website_before                    -0.224 -0.210        0.002   \n",
       "\n",
       "                          Avg_Sentiment_past_Calls  #_of_calls_in_the_past  \\\n",
       "Called_within_1_day                         -0.606                   0.458   \n",
       "Age                                         -0.573                   0.437   \n",
       "Bill_amount                                 -0.035                   0.035   \n",
       "Avg_Sentiment_past_Calls                     1.000                   0.035   \n",
       "#_of_calls_in_the_past                       0.035                   1.000   \n",
       "used_app_before                              0.531                  -0.233   \n",
       "Income                                       0.066                  -0.033   \n",
       "used_website_before                          0.569                   0.056   \n",
       "\n",
       "                          used_app_before  Income  used_website_before  \n",
       "Called_within_1_day                -0.731  -0.083               -0.224  \n",
       "Age                                -0.693  -0.093               -0.210  \n",
       "Bill_amount                        -0.020  -0.013                0.002  \n",
       "Avg_Sentiment_past_Calls            0.531   0.066                0.569  \n",
       "#_of_calls_in_the_past             -0.233  -0.033                0.056  \n",
       "used_app_before                     1.000   0.088                0.602  \n",
       "Income                              0.088   1.000                0.032  \n",
       "used_website_before                 0.602   0.032                1.000  "
      ]
     },
     "execution_count": 12,
     "metadata": {},
     "output_type": "execute_result"
    }
   ],
   "source": [
    "store_orders_corr = store_orders[['Called_within_1_day','Age','Bill_amount','Avg_Sentiment_past_Calls',\n",
    "                                  '#_of_calls_in_the_past','used_app_before','Income','used_website_before']]\n",
    "store_orders_corr.corr()"
   ]
  },
  {
   "cell_type": "code",
   "execution_count": 13,
   "metadata": {
    "scrolled": true
   },
   "outputs": [
    {
     "data": {
      "image/png": "[encoded data removed]",
      "text/plain": [
       "<matplotlib.figure.Figure at 0x11e0060b8>"
      ]
     },
     "metadata": {},
     "output_type": "display_data"
    }
   ],
   "source": [
    "ax_sns = sns.heatmap(store_orders_corr.corr(), cmap='RdBu_r');\n",
    "ax_sns.set_xticklabels(ax_sns.get_xticklabels(),rotation=76);\n",
    "ax_sns.set_yticklabels(ax_sns.get_yticklabels(),rotation=0);"
   ]
  },
  {
   "cell_type": "markdown",
   "metadata": {},
   "source": [
    "## Feature selection"
   ]
  },
  {
   "cell_type": "code",
   "execution_count": 48,
   "metadata": {
    "collapsed": true
   },
   "outputs": [],
   "source": [
    "from sklearn.feature_selection import SelectKBest\n",
    "from sklearn.feature_selection import chi2\n",
    "from sklearn.preprocessing import MinMaxScaler"
   ]
  },
  {
   "cell_type": "code",
   "execution_count": 83,
   "metadata": {
    "collapsed": true
   },
   "outputs": [],
   "source": [
    "X_orig = store_orders[['Age','Bill_amount', '#_of_calls_in_the_past','used_app_before','Income','used_website_before']]\n",
    "y_orig = store_orders['Called_within_1_day']\n",
    "\n",
    "# scale all values to between 0 and 1\n",
    "scaler = MinMaxScaler()\n",
    "X_scaled = scaler.fit_transform(X_orig)"
   ]
  },
  {
   "cell_type": "code",
   "execution_count": 121,
   "metadata": {
    "scrolled": false
   },
   "outputs": [
    {
     "data": {
      "text/plain": [
       "{('#_of_calls_in_the_past', 91.221892167646445, 1.2843145082754988e-21),\n",
       " ('Age', 287.36002077945466, 1.8697899406110376e-64),\n",
       " ('Bill_amount', 0.058440533169989178, 0.80897793781124328),\n",
       " ('Income', 1.1367710518890264, 0.28633565582557258),\n",
       " ('used_app_before', 173.65954195416685, 1.1747204152933668e-39),\n",
       " ('used_website_before', 11.684694957375196, 0.00063016316892518774)}"
      ]
     },
     "execution_count": 121,
     "metadata": {},
     "output_type": "execute_result"
    }
   ],
   "source": [
    "selector = SelectKBest(chi2, k='all')\n",
    "selector.fit(X_scaled, y_orig)\n",
    "\n",
    "X_new = selector.transform(X_scaled)\n",
    "\n",
    "X_orig.columns[selector.get_support(indices=True)]\n",
    "vector_names = list(X_orig.columns[selector.get_support(indices=True)])\n",
    "scores = selector.scores_\n",
    "p_values = selector.pvalues_\n",
    "\n",
    "chi_ranks = zip(vector_names, scores, p_values)\n",
    "set(chi_ranks)\n",
    "# feature name, score, p_value"
   ]
  },
  {
   "cell_type": "markdown",
   "metadata": {},
   "source": [
    "Top 3 features: Age, used_app_before, and #_of_calls_in_the_past\n",
    "\n",
    "Selected featuers in line with the box plots and correlations."
   ]
  },
  {
   "cell_type": "markdown",
   "metadata": {},
   "source": [
    "## Logistic Regression - selected features"
   ]
  },
  {
   "cell_type": "code",
   "execution_count": 52,
   "metadata": {
    "collapsed": true
   },
   "outputs": [],
   "source": [
    "from sklearn.metrics import classification_report,confusion_matrix\n",
    "from sklearn.model_selection import train_test_split\n",
    "from sklearn.linear_model import LogisticRegression\n",
    "\n",
    "store_orders_test = store_orders.dropna()\n",
    "\n",
    "X_train, X_test, y_train, y_test = train_test_split(store_orders[['Age','used_app_before']], \n",
    "                                                    y_orig, test_size=0.30, \n",
    "                                                    random_state=99)\n",
    "\n",
    "logmodel = LogisticRegression()\n",
    "logmodel.fit(X_train,y_train);"
   ]
  },
  {
   "cell_type": "code",
   "execution_count": 53,
   "metadata": {
    "scrolled": true
   },
   "outputs": [
    {
     "name": "stdout",
     "output_type": "stream",
     "text": [
      "             precision    recall  f1-score   support\n",
      "\n",
      "          0       1.00      1.00      1.00       233\n",
      "          1       1.00      1.00      1.00        67\n",
      "\n",
      "avg / total       1.00      1.00      1.00       300\n",
      "\n"
     ]
    }
   ],
   "source": [
    "log_predictions = logmodel.predict(X_test)\n",
    "print(classification_report(y_test,log_predictions))"
   ]
  },
  {
   "cell_type": "code",
   "execution_count": 54,
   "metadata": {},
   "outputs": [
    {
     "name": "stdout",
     "output_type": "stream",
     "text": [
      "[[233   0]\n",
      " [  0  67]]\n"
     ]
    }
   ],
   "source": [
    "# used for probability\n",
    "list(logmodel.predict_proba(X_test))[:5]\n",
    "print(confusion_matrix(y_test,log_predictions))"
   ]
  },
  {
   "cell_type": "markdown",
   "metadata": {},
   "source": [
    "### Logistic Regression - full features"
   ]
  },
  {
   "cell_type": "code",
   "execution_count": 55,
   "metadata": {
    "collapsed": true
   },
   "outputs": [],
   "source": [
    "y_orig = store_orders['Called_within_1_day']\n",
    "X_train, X_test, y_train, y_test = train_test_split(store_orders.drop(['Called_within_1_day', 'Avg_Sentiment_past_Calls'],axis=1), \n",
    "                                                    y_orig, test_size=0.30, \n",
    "                                                    random_state=99)\n",
    "\n",
    "logmodel = LogisticRegression()\n",
    "logmodel.fit(X_train,y_train);"
   ]
  },
  {
   "cell_type": "code",
   "execution_count": 56,
   "metadata": {
    "scrolled": true
   },
   "outputs": [
    {
     "name": "stdout",
     "output_type": "stream",
     "text": [
      "             precision    recall  f1-score   support\n",
      "\n",
      "          0       0.92      0.91      0.91       233\n",
      "          1       0.69      0.72      0.70        67\n",
      "\n",
      "avg / total       0.87      0.86      0.86       300\n",
      "\n"
     ]
    }
   ],
   "source": [
    "log_predictions = logmodel.predict(X_test)\n",
    "print(classification_report(y_test,log_predictions))"
   ]
  },
  {
   "cell_type": "code",
   "execution_count": 57,
   "metadata": {},
   "outputs": [
    {
     "name": "stdout",
     "output_type": "stream",
     "text": [
      "[[211  22]\n",
      " [ 19  48]]\n"
     ]
    }
   ],
   "source": [
    "#TP #FN\n",
    "#FP #TN\n",
    "print(confusion_matrix(y_test,log_predictions))"
   ]
  },
  {
   "cell_type": "markdown",
   "metadata": {},
   "source": [
    "## Decision Tree"
   ]
  },
  {
   "cell_type": "code",
   "execution_count": 58,
   "metadata": {
    "collapsed": true
   },
   "outputs": [],
   "source": [
    "from sklearn.tree import DecisionTreeClassifier"
   ]
  },
  {
   "cell_type": "code",
   "execution_count": 59,
   "metadata": {
    "collapsed": true
   },
   "outputs": [],
   "source": [
    "X_train, X_test, y_train, y_test = train_test_split(store_orders[['Age','used_app_before']], store_orders['Called_within_1_day'], test_size=0.30, random_state=99)"
   ]
  },
  {
   "cell_type": "code",
   "execution_count": 60,
   "metadata": {},
   "outputs": [
    {
     "data": {
      "text/plain": [
       "DecisionTreeClassifier(class_weight=None, criterion='gini', max_depth=None,\n",
       "            max_features=None, max_leaf_nodes=None,\n",
       "            min_impurity_decrease=0.0, min_impurity_split=None,\n",
       "            min_samples_leaf=1, min_samples_split=2,\n",
       "            min_weight_fraction_leaf=0.0, presort=False, random_state=None,\n",
       "            splitter='best')"
      ]
     },
     "execution_count": 60,
     "metadata": {},
     "output_type": "execute_result"
    }
   ],
   "source": [
    "dtree = DecisionTreeClassifier()\n",
    "dtree.fit(X_train,y_train)"
   ]
  },
  {
   "cell_type": "code",
   "execution_count": 61,
   "metadata": {
    "scrolled": true
   },
   "outputs": [
    {
     "name": "stdout",
     "output_type": "stream",
     "text": [
      "             precision    recall  f1-score   support\n",
      "\n",
      "          0       1.00      1.00      1.00       233\n",
      "          1       1.00      1.00      1.00        67\n",
      "\n",
      "avg / total       1.00      1.00      1.00       300\n",
      "\n"
     ]
    }
   ],
   "source": [
    "dtree_predictions = dtree.predict(X_test)\n",
    "print(classification_report(y_test,dtree_predictions))"
   ]
  },
  {
   "cell_type": "markdown",
   "metadata": {},
   "source": [
    "## Tree Visualization"
   ]
  },
  {
   "cell_type": "code",
   "execution_count": 62,
   "metadata": {
    "collapsed": true,
    "scrolled": true
   },
   "outputs": [],
   "source": [
    "from IPython.display import Image  \n",
    "from sklearn.externals.six import StringIO  \n",
    "from sklearn.tree import export_graphviz\n",
    "import pydot \n",
    "import os\n",
    "\n",
    "os.environ[\"PATH\"] += os.pathsep + 'C:/Program Files (x86)/Graphviz2.38/bin/'\n",
    "\n",
    "features = list(['Age','used_app_before'])"
   ]
  },
  {
   "cell_type": "code",
   "execution_count": 63,
   "metadata": {},
   "outputs": [
    {
     "data": {
      "image/png": "[encoded data removed]",
      "text/plain": [
       "<IPython.core.display.Image object>"
      ]
     },
     "execution_count": 63,
     "metadata": {},
     "output_type": "execute_result"
    }
   ],
   "source": [
    "dot_data = StringIO()  \n",
    "export_graphviz(dtree, out_file=dot_data,feature_names=features,filled=True,rounded=True)\n",
    "\n",
    "graph = pydot.graph_from_dot_data(dot_data.getvalue())  \n",
    "Image(graph[0].create_png())  "
   ]
  },
  {
   "cell_type": "code",
   "execution_count": 64,
   "metadata": {
    "collapsed": true
   },
   "outputs": [],
   "source": [
    "from sklearn.ensemble import RandomForestClassifier\n",
    "from sklearn.feature_selection import RFECV"
   ]
  },
  {
   "cell_type": "code",
   "execution_count": 65,
   "metadata": {
    "collapsed": true,
    "scrolled": true
   },
   "outputs": [],
   "source": [
    "X_train, X_test, y_train, y_test = train_test_split(store_orders[['Age','Bill_amount', '#_of_calls_in_the_past','used_app_before','Income','used_website_before']], store_orders['Called_within_1_day'], test_size=0.30, random_state=99)\n",
    "\n",
    "rfc = RandomForestClassifier(n_estimators=100)\n",
    "rfc_fitted = rfc.fit(X_train, y_train);"
   ]
  },
  {
   "cell_type": "code",
   "execution_count": 66,
   "metadata": {},
   "outputs": [
    {
     "name": "stdout",
     "output_type": "stream",
     "text": [
      "[[233   0]\n",
      " [  0  67]]\n"
     ]
    }
   ],
   "source": [
    "rfc_pred = rfc.predict(X_test)\n",
    "print(confusion_matrix(y_test,rfc_pred))"
   ]
  },
  {
   "cell_type": "code",
   "execution_count": 67,
   "metadata": {
    "scrolled": true
   },
   "outputs": [
    {
     "name": "stdout",
     "output_type": "stream",
     "text": [
      "             precision    recall  f1-score   support\n",
      "\n",
      "          0       1.00      1.00      1.00       233\n",
      "          1       1.00      1.00      1.00        67\n",
      "\n",
      "avg / total       1.00      1.00      1.00       300\n",
      "\n"
     ]
    }
   ],
   "source": [
    "print(classification_report(y_test,rfc_pred))"
   ]
  },
  {
   "cell_type": "code",
   "execution_count": 68,
   "metadata": {
    "scrolled": true
   },
   "outputs": [
    {
     "data": {
      "text/plain": [
       "{('#_of_calls_in_the_past', 0.1390831296137606),\n",
       " ('Age', 0.58154984833935763),\n",
       " ('Bill_amount', 0.0046254507518820329),\n",
       " ('Income', 0.010603169692880854),\n",
       " ('used_app_before', 0.23799123783113796),\n",
       " ('used_website_before', 0.026147163770981047)}"
      ]
     },
     "execution_count": 68,
     "metadata": {},
     "output_type": "execute_result"
    }
   ],
   "source": [
    "vector_names = list(X_orig.columns)\n",
    "\n",
    "rfc_ranks = zip(vector_names, rfc.feature_importances_)\n",
    "set(rfc_ranks)"
   ]
  },
  {
   "cell_type": "markdown",
   "metadata": {},
   "source": [
    "Top 3 features: Age, used_app_before, and #_of_calls_in_the_past\n",
    "\n",
    "Selected featuers the same as features selected using chi square test"
   ]
  },
  {
   "cell_type": "markdown",
   "metadata": {},
   "source": [
    "### Call Sentiment - analyze those with sentiments recorded"
   ]
  },
  {
   "cell_type": "code",
   "execution_count": 69,
   "metadata": {},
   "outputs": [
    {
     "data": {
      "text/plain": [
       "Called_within_1_day\n",
       "0    256\n",
       "1    249\n",
       "Name: Customer_ID, dtype: int64"
      ]
     },
     "execution_count": 69,
     "metadata": {},
     "output_type": "execute_result"
    }
   ],
   "source": [
    "store_orders_sentiment = store_orders[store_orders['Avg_Sentiment_past_Calls'].notnull()]\n",
    "# Outlier in Bill_amount of 10,0000,0000 - remove it\n",
    "store_orders_sentiment = store_orders_sentiment[store_orders_sentiment['Bill_amount'] < 1000000.000] \n",
    "store_orders_sentiment.groupby('Called_within_1_day').count()['Customer_ID']\n",
    "#sns.boxplot(x='Called_within_1_day',y='Income',data=store_orders_sentiment,palette='winter', ax=ax[0,2])"
   ]
  },
  {
   "cell_type": "code",
   "execution_count": 70,
   "metadata": {
    "scrolled": true
   },
   "outputs": [
    {
     "data": {
      "text/html": [
       "<div>\n",
       "<style>\n",
       "    .dataframe thead tr:only-child th {\n",
       "        text-align: right;\n",
       "    }\n",
       "\n",
       "    .dataframe thead th {\n",
       "        text-align: left;\n",
       "    }\n",
       "\n",
       "    .dataframe tbody tr th {\n",
       "        vertical-align: top;\n",
       "    }\n",
       "</style>\n",
       "<table border=\"1\" class=\"dataframe\">\n",
       "  <thead>\n",
       "    <tr style=\"text-align: right;\">\n",
       "      <th></th>\n",
       "      <th>Customer_ID</th>\n",
       "      <th>Age</th>\n",
       "      <th>Bill_amount</th>\n",
       "      <th>used_app_before</th>\n",
       "      <th>used_website_before</th>\n",
       "      <th>Income</th>\n",
       "      <th>#_of_calls_in_the_past</th>\n",
       "      <th>Avg_Sentiment_past_Calls</th>\n",
       "    </tr>\n",
       "    <tr>\n",
       "      <th>Called_within_1_day</th>\n",
       "      <th></th>\n",
       "      <th></th>\n",
       "      <th></th>\n",
       "      <th></th>\n",
       "      <th></th>\n",
       "      <th></th>\n",
       "      <th></th>\n",
       "      <th></th>\n",
       "    </tr>\n",
       "  </thead>\n",
       "  <tbody>\n",
       "    <tr>\n",
       "      <th>0</th>\n",
       "      <td>0.508</td>\n",
       "      <td>22.582</td>\n",
       "      <td>10.711</td>\n",
       "      <td>0.910</td>\n",
       "      <td>0.910</td>\n",
       "      <td>305643.043</td>\n",
       "      <td>10.223</td>\n",
       "      <td>2.809</td>\n",
       "    </tr>\n",
       "    <tr>\n",
       "      <th>1</th>\n",
       "      <td>0.496</td>\n",
       "      <td>65.430</td>\n",
       "      <td>10.980</td>\n",
       "      <td>0.080</td>\n",
       "      <td>0.602</td>\n",
       "      <td>281267.016</td>\n",
       "      <td>10.667</td>\n",
       "      <td>-7.458</td>\n",
       "    </tr>\n",
       "  </tbody>\n",
       "</table>\n",
       "</div>"
      ],
      "text/plain": [
       "                     Customer_ID    Age  Bill_amount  used_app_before  \\\n",
       "Called_within_1_day                                                     \n",
       "0                          0.508 22.582       10.711            0.910   \n",
       "1                          0.496 65.430       10.980            0.080   \n",
       "\n",
       "                     used_website_before     Income  #_of_calls_in_the_past  \\\n",
       "Called_within_1_day                                                           \n",
       "0                                  0.910 305643.043                  10.223   \n",
       "1                                  0.602 281267.016                  10.667   \n",
       "\n",
       "                     Avg_Sentiment_past_Calls  \n",
       "Called_within_1_day                            \n",
       "0                                       2.809  \n",
       "1                                      -7.458  "
      ]
     },
     "execution_count": 70,
     "metadata": {},
     "output_type": "execute_result"
    }
   ],
   "source": [
    "store_orders_sentiment.groupby('Called_within_1_day').mean()"
   ]
  },
  {
   "cell_type": "code",
   "execution_count": 71,
   "metadata": {
    "scrolled": true
   },
   "outputs": [
    {
     "data": {
      "text/plain": [
       "Called_within_1_day         1.000\n",
       "Age                         0.950\n",
       "Bill_amount                 0.023\n",
       "Avg_Sentiment_past_Calls   -0.606\n",
       "#_of_calls_in_the_past      0.037\n",
       "used_app_before            -0.830\n",
       "Income                     -0.106\n",
       "used_website_before        -0.359\n",
       "Name: Called_within_1_day, dtype: float64"
      ]
     },
     "execution_count": 71,
     "metadata": {},
     "output_type": "execute_result"
    }
   ],
   "source": [
    "store_orders_sentiment_corr = store_orders_sentiment[['Called_within_1_day','Age','Bill_amount','Avg_Sentiment_past_Calls',\n",
    "                                  '#_of_calls_in_the_past','used_app_before','Income','used_website_before']]\n",
    "store_orders_sentiment_corr.corr()['Called_within_1_day']"
   ]
  },
  {
   "cell_type": "code",
   "execution_count": 72,
   "metadata": {},
   "outputs": [
    {
     "data": {
      "image/png": "[encoded data removed]",
      "text/plain": [
       "<matplotlib.figure.Figure at 0x1215a8320>"
      ]
     },
     "metadata": {},
     "output_type": "display_data"
    }
   ],
   "source": [
    "ax_sns = sns.heatmap(store_orders_sentiment_corr.corr(), cmap='RdBu_r');"
   ]
  },
  {
   "cell_type": "code",
   "execution_count": 73,
   "metadata": {
    "collapsed": true
   },
   "outputs": [],
   "source": [
    "X_train, X_test, y_train, y_test = train_test_split(store_orders_sentiment[['Age','Bill_amount', '#_of_calls_in_the_past','used_app_before','Income','used_website_before','Avg_Sentiment_past_Calls']], store_orders_sentiment['Called_within_1_day'], test_size=0.30, random_state=99)\n",
    "\n",
    "rfc = RandomForestClassifier(n_estimators=100)\n",
    "rfc.fit(X_train, y_train);"
   ]
  },
  {
   "cell_type": "code",
   "execution_count": 74,
   "metadata": {
    "scrolled": true
   },
   "outputs": [
    {
     "data": {
      "text/plain": [
       "{('#_of_calls_in_the_past', 0.02468794121408285),\n",
       " ('Age', 0.45686595926366386),\n",
       " ('Avg_Sentiment_past_Calls', 0.19842865291584022),\n",
       " ('Bill_amount', 0.0068417474737351401),\n",
       " ('Income', 0.01645837070688955),\n",
       " ('used_app_before', 0.27475951634221418),\n",
       " ('used_website_before', 0.021957812083574259)}"
      ]
     },
     "execution_count": 74,
     "metadata": {},
     "output_type": "execute_result"
    }
   ],
   "source": [
    "vector_names = list(X_train.columns)\n",
    "\n",
    "rfc_ranks = zip(vector_names, rfc.feature_importances_)\n",
    "set(rfc_ranks)"
   ]
  },
  {
   "cell_type": "markdown",
   "metadata": {},
   "source": [
    "Age and used_app_before seem to be the most important indicators, followed by Avg_Sentiment_past_Calls"
   ]
  },
  {
   "cell_type": "markdown",
   "metadata": {},
   "source": [
    "### Sentiment - logistic regression selected"
   ]
  },
  {
   "cell_type": "code",
   "execution_count": 75,
   "metadata": {
    "collapsed": true
   },
   "outputs": [],
   "source": [
    "y_orig = store_orders_sentiment['Called_within_1_day']\n",
    "X_train, X_test, y_train, y_test = train_test_split(store_orders_sentiment[['Age','used_app_before','Avg_Sentiment_past_Calls']], \n",
    "                                                    y_orig, test_size=0.30, \n",
    "                                                    random_state=99)\n",
    "\n",
    "logmodel = LogisticRegression()\n",
    "logmodel.fit(X_train,y_train);"
   ]
  },
  {
   "cell_type": "code",
   "execution_count": 76,
   "metadata": {
    "scrolled": false
   },
   "outputs": [
    {
     "name": "stdout",
     "output_type": "stream",
     "text": [
      "             precision    recall  f1-score   support\n",
      "\n",
      "          0       1.00      1.00      1.00        72\n",
      "          1       1.00      1.00      1.00        80\n",
      "\n",
      "avg / total       1.00      1.00      1.00       152\n",
      "\n"
     ]
    }
   ],
   "source": [
    "log_predictions = logmodel.predict(X_test)\n",
    "print(classification_report(y_test,log_predictions))"
   ]
  },
  {
   "cell_type": "markdown",
   "metadata": {},
   "source": [
    "### Sentiment - logistic regression all"
   ]
  },
  {
   "cell_type": "code",
   "execution_count": 77,
   "metadata": {
    "collapsed": true
   },
   "outputs": [],
   "source": [
    "y_orig = store_orders_sentiment['Called_within_1_day']\n",
    "X_train, X_test, y_train, y_test = train_test_split(store_orders_sentiment.drop('Called_within_1_day',axis=1), \n",
    "                                                    y_orig, test_size=0.30, \n",
    "                                                    random_state=99)\n",
    "\n",
    "logmodel = LogisticRegression()\n",
    "logmodel.fit(X_train,y_train);"
   ]
  },
  {
   "cell_type": "code",
   "execution_count": 78,
   "metadata": {},
   "outputs": [
    {
     "name": "stdout",
     "output_type": "stream",
     "text": [
      "[[67  5]\n",
      " [ 5 75]]\n"
     ]
    }
   ],
   "source": [
    "log_pred = logmodel.predict(X_test)\n",
    "print(confusion_matrix(y_test,log_pred))"
   ]
  },
  {
   "cell_type": "code",
   "execution_count": 79,
   "metadata": {
    "scrolled": true
   },
   "outputs": [
    {
     "name": "stdout",
     "output_type": "stream",
     "text": [
      "             precision    recall  f1-score   support\n",
      "\n",
      "          0       0.93      0.93      0.93        72\n",
      "          1       0.94      0.94      0.94        80\n",
      "\n",
      "avg / total       0.93      0.93      0.93       152\n",
      "\n"
     ]
    }
   ],
   "source": [
    "log_predictions = logmodel.predict(X_test)\n",
    "print(classification_report(y_test,log_predictions))"
   ]
  }
 ],
 "metadata": {
  "kernelspec": {
   "display_name": "Python 3",
   "language": "python",
   "name": "python3"
  },
  "language_info": {
   "codemirror_mode": {
    "name": "ipython",
    "version": 3
   },
   "file_extension": ".py",
   "mimetype": "text/x-python",
   "name": "python",
   "nbconvert_exporter": "python",
   "pygments_lexer": "ipython3",
   "version": "3.5.3"
  }
 },
 "nbformat": 4,
 "nbformat_minor": 2
}
